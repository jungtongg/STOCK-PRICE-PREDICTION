{
  "cells": [
    {
      "cell_type": "markdown",
      "metadata": {
        "id": "xgjmLt7mE54O"
      },
      "source": [
        "# **DỰ BÁO GIÁ CHỨNG KHOÁN**\n",
        "\n",
        "Đoạn mã dưới đây bao gồm các bước sử dụng mô hình LSTM đơn biến để dự báo giá chứng khoán của Công ty Cổ phần Viễn thông FPT:\n",
        "\n",
        "1. Thu thập dữ liệu từ thư viện vnstock và tiến hành tiền xử lý dữ liệu.\n",
        "\n",
        "2. Chuẩn bị dữ liệu huấn luyện.\n",
        "\n",
        "3. Xây dựng mô hình LSTM.\n",
        "\n",
        "4. Tối ưu hóa tham số mô hình bằng phương pháp Bayesian.\n",
        "\n",
        "5. Huấn luyện mô hình với tham số tối ưu.\n",
        "\n",
        "6. Đánh giá mô hình qua các chỉ số đánh giá MSE, RMSE, MAPE, R².\n",
        "\n",
        "7. Đánh giá kết quả thông qua biểu đồ trực quan."
      ]
    },
    {
      "cell_type": "markdown",
      "metadata": {
        "id": "qI6JDp7wEh1C"
      },
      "source": [
        "#CHUẨN BỊ CÁC THƯ VIỆN"
      ]
    },
    {
      "cell_type": "code",
      "execution_count": null,
      "metadata": {
        "colab": {
          "base_uri": "https://localhost:8080/"
        },
        "collapsed": true,
        "id": "rESUHWvxHZDn",
        "outputId": "df493c62-3f63-46e6-a4e6-3b4b7fdc8e4c"
      },
      "outputs": [
        {
          "output_type": "stream",
          "name": "stdout",
          "text": [
            "Collecting vnstock\n",
            "  Downloading vnstock-3.1.0.1-py3-none-any.whl.metadata (17 kB)\n",
            "Requirement already satisfied: requests in /usr/local/lib/python3.10/dist-packages (from vnstock) (2.32.3)\n",
            "Requirement already satisfied: beautifulsoup4 in /usr/local/lib/python3.10/dist-packages (from vnstock) (4.12.3)\n",
            "Requirement already satisfied: pandas in /usr/local/lib/python3.10/dist-packages (from vnstock) (2.2.2)\n",
            "Collecting vnai>=0.1.3 (from vnstock)\n",
            "  Downloading vnai-0.1.4-py3-none-any.whl.metadata (631 bytes)\n",
            "Requirement already satisfied: openpyxl in /usr/local/lib/python3.10/dist-packages (from vnstock) (3.1.5)\n",
            "Requirement already satisfied: pydantic in /usr/local/lib/python3.10/dist-packages (from vnstock) (2.10.3)\n",
            "Requirement already satisfied: psutil in /usr/local/lib/python3.10/dist-packages (from vnstock) (5.9.5)\n",
            "Collecting fake_useragent (from vnstock)\n",
            "  Downloading fake_useragent-2.0.3-py3-none-any.whl.metadata (17 kB)\n",
            "Collecting vnstock_ezchart (from vnstock)\n",
            "  Downloading vnstock_ezchart-0.0.2-py3-none-any.whl.metadata (6.6 kB)\n",
            "Requirement already satisfied: click in /usr/local/lib/python3.10/dist-packages (from vnstock) (8.1.7)\n",
            "Requirement already satisfied: seaborn in /usr/local/lib/python3.10/dist-packages (from vnstock) (0.13.2)\n",
            "Requirement already satisfied: cryptography in /usr/local/lib/python3.10/dist-packages (from vnai>=0.1.3->vnstock) (43.0.3)\n",
            "Requirement already satisfied: soupsieve>1.2 in /usr/local/lib/python3.10/dist-packages (from beautifulsoup4->vnstock) (2.6)\n",
            "Requirement already satisfied: et-xmlfile in /usr/local/lib/python3.10/dist-packages (from openpyxl->vnstock) (2.0.0)\n",
            "Requirement already satisfied: numpy>=1.22.4 in /usr/local/lib/python3.10/dist-packages (from pandas->vnstock) (1.26.4)\n",
            "Requirement already satisfied: python-dateutil>=2.8.2 in /usr/local/lib/python3.10/dist-packages (from pandas->vnstock) (2.8.2)\n",
            "Requirement already satisfied: pytz>=2020.1 in /usr/local/lib/python3.10/dist-packages (from pandas->vnstock) (2024.2)\n",
            "Requirement already satisfied: tzdata>=2022.7 in /usr/local/lib/python3.10/dist-packages (from pandas->vnstock) (2024.2)\n",
            "Requirement already satisfied: annotated-types>=0.6.0 in /usr/local/lib/python3.10/dist-packages (from pydantic->vnstock) (0.7.0)\n",
            "Requirement already satisfied: pydantic-core==2.27.1 in /usr/local/lib/python3.10/dist-packages (from pydantic->vnstock) (2.27.1)\n",
            "Requirement already satisfied: typing-extensions>=4.12.2 in /usr/local/lib/python3.10/dist-packages (from pydantic->vnstock) (4.12.2)\n",
            "Requirement already satisfied: charset-normalizer<4,>=2 in /usr/local/lib/python3.10/dist-packages (from requests->vnstock) (3.4.0)\n",
            "Requirement already satisfied: idna<4,>=2.5 in /usr/local/lib/python3.10/dist-packages (from requests->vnstock) (3.10)\n",
            "Requirement already satisfied: urllib3<3,>=1.21.1 in /usr/local/lib/python3.10/dist-packages (from requests->vnstock) (2.2.3)\n",
            "Requirement already satisfied: certifi>=2017.4.17 in /usr/local/lib/python3.10/dist-packages (from requests->vnstock) (2024.12.14)\n",
            "Requirement already satisfied: matplotlib!=3.6.1,>=3.4 in /usr/local/lib/python3.10/dist-packages (from seaborn->vnstock) (3.8.0)\n",
            "Collecting squarify (from vnstock_ezchart->vnstock)\n",
            "  Downloading squarify-0.4.4-py3-none-any.whl.metadata (600 bytes)\n",
            "Requirement already satisfied: wordcloud in /usr/local/lib/python3.10/dist-packages (from vnstock_ezchart->vnstock) (1.9.4)\n",
            "Requirement already satisfied: contourpy>=1.0.1 in /usr/local/lib/python3.10/dist-packages (from matplotlib!=3.6.1,>=3.4->seaborn->vnstock) (1.3.1)\n",
            "Requirement already satisfied: cycler>=0.10 in /usr/local/lib/python3.10/dist-packages (from matplotlib!=3.6.1,>=3.4->seaborn->vnstock) (0.12.1)\n",
            "Requirement already satisfied: fonttools>=4.22.0 in /usr/local/lib/python3.10/dist-packages (from matplotlib!=3.6.1,>=3.4->seaborn->vnstock) (4.55.3)\n",
            "Requirement already satisfied: kiwisolver>=1.0.1 in /usr/local/lib/python3.10/dist-packages (from matplotlib!=3.6.1,>=3.4->seaborn->vnstock) (1.4.7)\n",
            "Requirement already satisfied: packaging>=20.0 in /usr/local/lib/python3.10/dist-packages (from matplotlib!=3.6.1,>=3.4->seaborn->vnstock) (24.2)\n",
            "Requirement already satisfied: pillow>=6.2.0 in /usr/local/lib/python3.10/dist-packages (from matplotlib!=3.6.1,>=3.4->seaborn->vnstock) (11.0.0)\n",
            "Requirement already satisfied: pyparsing>=2.3.1 in /usr/local/lib/python3.10/dist-packages (from matplotlib!=3.6.1,>=3.4->seaborn->vnstock) (3.2.0)\n",
            "Requirement already satisfied: six>=1.5 in /usr/local/lib/python3.10/dist-packages (from python-dateutil>=2.8.2->pandas->vnstock) (1.17.0)\n",
            "Requirement already satisfied: cffi>=1.12 in /usr/local/lib/python3.10/dist-packages (from cryptography->vnai>=0.1.3->vnstock) (1.17.1)\n",
            "Requirement already satisfied: pycparser in /usr/local/lib/python3.10/dist-packages (from cffi>=1.12->cryptography->vnai>=0.1.3->vnstock) (2.22)\n",
            "Downloading vnstock-3.1.0.1-py3-none-any.whl (87 kB)\n",
            "\u001b[2K   \u001b[90m━━━━━━━━━━━━━━━━━━━━━━━━━━━━━━━━━━━━━━━━\u001b[0m \u001b[32m87.2/87.2 kB\u001b[0m \u001b[31m6.6 MB/s\u001b[0m eta \u001b[36m0:00:00\u001b[0m\n",
            "\u001b[?25hDownloading vnai-0.1.4-py3-none-any.whl (5.2 kB)\n",
            "Downloading fake_useragent-2.0.3-py3-none-any.whl (201 kB)\n",
            "\u001b[2K   \u001b[90m━━━━━━━━━━━━━━━━━━━━━━━━━━━━━━━━━━━━━━━━\u001b[0m \u001b[32m201.1/201.1 kB\u001b[0m \u001b[31m15.4 MB/s\u001b[0m eta \u001b[36m0:00:00\u001b[0m\n",
            "\u001b[?25hDownloading vnstock_ezchart-0.0.2-py3-none-any.whl (14 kB)\n",
            "Downloading squarify-0.4.4-py3-none-any.whl (4.1 kB)\n",
            "Installing collected packages: squarify, fake_useragent, vnai, vnstock_ezchart, vnstock\n",
            "Successfully installed fake_useragent-2.0.3 squarify-0.4.4 vnai-0.1.4 vnstock-3.1.0.1 vnstock_ezchart-0.0.2\n",
            "Collecting vnstock3\n",
            "  Downloading vnstock3-3.1.0-py3-none-any.whl.metadata (17 kB)\n",
            "Requirement already satisfied: requests in /usr/local/lib/python3.10/dist-packages (from vnstock3) (2.32.3)\n",
            "Requirement already satisfied: beautifulsoup4 in /usr/local/lib/python3.10/dist-packages (from vnstock3) (4.12.3)\n",
            "Requirement already satisfied: pandas in /usr/local/lib/python3.10/dist-packages (from vnstock3) (2.2.2)\n",
            "Requirement already satisfied: vnai>=0.1.3 in /usr/local/lib/python3.10/dist-packages (from vnstock3) (0.1.4)\n",
            "Requirement already satisfied: openpyxl in /usr/local/lib/python3.10/dist-packages (from vnstock3) (3.1.5)\n",
            "Requirement already satisfied: pydantic in /usr/local/lib/python3.10/dist-packages (from vnstock3) (2.10.3)\n",
            "Requirement already satisfied: psutil in /usr/local/lib/python3.10/dist-packages (from vnstock3) (5.9.5)\n",
            "Requirement already satisfied: fake-useragent in /usr/local/lib/python3.10/dist-packages (from vnstock3) (2.0.3)\n",
            "Requirement already satisfied: vnstock-ezchart in /usr/local/lib/python3.10/dist-packages (from vnstock3) (0.0.2)\n",
            "Requirement already satisfied: click in /usr/local/lib/python3.10/dist-packages (from vnstock3) (8.1.7)\n",
            "Requirement already satisfied: seaborn in /usr/local/lib/python3.10/dist-packages (from vnstock3) (0.13.2)\n",
            "Requirement already satisfied: cryptography in /usr/local/lib/python3.10/dist-packages (from vnai>=0.1.3->vnstock3) (43.0.3)\n",
            "Requirement already satisfied: soupsieve>1.2 in /usr/local/lib/python3.10/dist-packages (from beautifulsoup4->vnstock3) (2.6)\n",
            "Requirement already satisfied: et-xmlfile in /usr/local/lib/python3.10/dist-packages (from openpyxl->vnstock3) (2.0.0)\n",
            "Requirement already satisfied: numpy>=1.22.4 in /usr/local/lib/python3.10/dist-packages (from pandas->vnstock3) (1.26.4)\n",
            "Requirement already satisfied: python-dateutil>=2.8.2 in /usr/local/lib/python3.10/dist-packages (from pandas->vnstock3) (2.8.2)\n",
            "Requirement already satisfied: pytz>=2020.1 in /usr/local/lib/python3.10/dist-packages (from pandas->vnstock3) (2024.2)\n",
            "Requirement already satisfied: tzdata>=2022.7 in /usr/local/lib/python3.10/dist-packages (from pandas->vnstock3) (2024.2)\n",
            "Requirement already satisfied: annotated-types>=0.6.0 in /usr/local/lib/python3.10/dist-packages (from pydantic->vnstock3) (0.7.0)\n",
            "Requirement already satisfied: pydantic-core==2.27.1 in /usr/local/lib/python3.10/dist-packages (from pydantic->vnstock3) (2.27.1)\n",
            "Requirement already satisfied: typing-extensions>=4.12.2 in /usr/local/lib/python3.10/dist-packages (from pydantic->vnstock3) (4.12.2)\n",
            "Requirement already satisfied: charset-normalizer<4,>=2 in /usr/local/lib/python3.10/dist-packages (from requests->vnstock3) (3.4.0)\n",
            "Requirement already satisfied: idna<4,>=2.5 in /usr/local/lib/python3.10/dist-packages (from requests->vnstock3) (3.10)\n",
            "Requirement already satisfied: urllib3<3,>=1.21.1 in /usr/local/lib/python3.10/dist-packages (from requests->vnstock3) (2.2.3)\n",
            "Requirement already satisfied: certifi>=2017.4.17 in /usr/local/lib/python3.10/dist-packages (from requests->vnstock3) (2024.12.14)\n",
            "Requirement already satisfied: matplotlib!=3.6.1,>=3.4 in /usr/local/lib/python3.10/dist-packages (from seaborn->vnstock3) (3.8.0)\n",
            "Requirement already satisfied: squarify in /usr/local/lib/python3.10/dist-packages (from vnstock-ezchart->vnstock3) (0.4.4)\n",
            "Requirement already satisfied: wordcloud in /usr/local/lib/python3.10/dist-packages (from vnstock-ezchart->vnstock3) (1.9.4)\n",
            "Requirement already satisfied: vnstock in /usr/local/lib/python3.10/dist-packages (from vnstock-ezchart->vnstock3) (3.1.0.1)\n",
            "Requirement already satisfied: contourpy>=1.0.1 in /usr/local/lib/python3.10/dist-packages (from matplotlib!=3.6.1,>=3.4->seaborn->vnstock3) (1.3.1)\n",
            "Requirement already satisfied: cycler>=0.10 in /usr/local/lib/python3.10/dist-packages (from matplotlib!=3.6.1,>=3.4->seaborn->vnstock3) (0.12.1)\n",
            "Requirement already satisfied: fonttools>=4.22.0 in /usr/local/lib/python3.10/dist-packages (from matplotlib!=3.6.1,>=3.4->seaborn->vnstock3) (4.55.3)\n",
            "Requirement already satisfied: kiwisolver>=1.0.1 in /usr/local/lib/python3.10/dist-packages (from matplotlib!=3.6.1,>=3.4->seaborn->vnstock3) (1.4.7)\n",
            "Requirement already satisfied: packaging>=20.0 in /usr/local/lib/python3.10/dist-packages (from matplotlib!=3.6.1,>=3.4->seaborn->vnstock3) (24.2)\n",
            "Requirement already satisfied: pillow>=6.2.0 in /usr/local/lib/python3.10/dist-packages (from matplotlib!=3.6.1,>=3.4->seaborn->vnstock3) (11.0.0)\n",
            "Requirement already satisfied: pyparsing>=2.3.1 in /usr/local/lib/python3.10/dist-packages (from matplotlib!=3.6.1,>=3.4->seaborn->vnstock3) (3.2.0)\n",
            "Requirement already satisfied: six>=1.5 in /usr/local/lib/python3.10/dist-packages (from python-dateutil>=2.8.2->pandas->vnstock3) (1.17.0)\n",
            "Requirement already satisfied: cffi>=1.12 in /usr/local/lib/python3.10/dist-packages (from cryptography->vnai>=0.1.3->vnstock3) (1.17.1)\n",
            "Requirement already satisfied: pycparser in /usr/local/lib/python3.10/dist-packages (from cffi>=1.12->cryptography->vnai>=0.1.3->vnstock3) (2.22)\n",
            "Downloading vnstock3-3.1.0-py3-none-any.whl (93 kB)\n",
            "\u001b[2K   \u001b[90m━━━━━━━━━━━━━━━━━━━━━━━━━━━━━━━━━━━━━━━━\u001b[0m \u001b[32m93.0/93.0 kB\u001b[0m \u001b[31m5.2 MB/s\u001b[0m eta \u001b[36m0:00:00\u001b[0m\n",
            "\u001b[?25hInstalling collected packages: vnstock3\n",
            "Successfully installed vnstock3-3.1.0\n",
            "Collecting optuna\n",
            "  Downloading optuna-4.1.0-py3-none-any.whl.metadata (16 kB)\n",
            "Collecting alembic>=1.5.0 (from optuna)\n",
            "  Downloading alembic-1.14.0-py3-none-any.whl.metadata (7.4 kB)\n",
            "Collecting colorlog (from optuna)\n",
            "  Downloading colorlog-6.9.0-py3-none-any.whl.metadata (10 kB)\n",
            "Requirement already satisfied: numpy in /usr/local/lib/python3.10/dist-packages (from optuna) (1.26.4)\n",
            "Requirement already satisfied: packaging>=20.0 in /usr/local/lib/python3.10/dist-packages (from optuna) (24.2)\n",
            "Requirement already satisfied: sqlalchemy>=1.4.2 in /usr/local/lib/python3.10/dist-packages (from optuna) (2.0.36)\n",
            "Requirement already satisfied: tqdm in /usr/local/lib/python3.10/dist-packages (from optuna) (4.67.1)\n",
            "Requirement already satisfied: PyYAML in /usr/local/lib/python3.10/dist-packages (from optuna) (6.0.2)\n",
            "Collecting Mako (from alembic>=1.5.0->optuna)\n",
            "  Downloading Mako-1.3.8-py3-none-any.whl.metadata (2.9 kB)\n",
            "Requirement already satisfied: typing-extensions>=4 in /usr/local/lib/python3.10/dist-packages (from alembic>=1.5.0->optuna) (4.12.2)\n",
            "Requirement already satisfied: greenlet!=0.4.17 in /usr/local/lib/python3.10/dist-packages (from sqlalchemy>=1.4.2->optuna) (3.1.1)\n",
            "Requirement already satisfied: MarkupSafe>=0.9.2 in /usr/local/lib/python3.10/dist-packages (from Mako->alembic>=1.5.0->optuna) (3.0.2)\n",
            "Downloading optuna-4.1.0-py3-none-any.whl (364 kB)\n",
            "\u001b[2K   \u001b[90m━━━━━━━━━━━━━━━━━━━━━━━━━━━━━━━━━━━━━━━━\u001b[0m \u001b[32m364.4/364.4 kB\u001b[0m \u001b[31m20.6 MB/s\u001b[0m eta \u001b[36m0:00:00\u001b[0m\n",
            "\u001b[?25hDownloading alembic-1.14.0-py3-none-any.whl (233 kB)\n",
            "\u001b[2K   \u001b[90m━━━━━━━━━━━━━━━━━━━━━━━━━━━━━━━━━━━━━━━━\u001b[0m \u001b[32m233.5/233.5 kB\u001b[0m \u001b[31m13.5 MB/s\u001b[0m eta \u001b[36m0:00:00\u001b[0m\n",
            "\u001b[?25hDownloading colorlog-6.9.0-py3-none-any.whl (11 kB)\n",
            "Downloading Mako-1.3.8-py3-none-any.whl (78 kB)\n",
            "\u001b[2K   \u001b[90m━━━━━━━━━━━━━━━━━━━━━━━━━━━━━━━━━━━━━━━━\u001b[0m \u001b[32m78.6/78.6 kB\u001b[0m \u001b[31m6.9 MB/s\u001b[0m eta \u001b[36m0:00:00\u001b[0m\n",
            "\u001b[?25hInstalling collected packages: Mako, colorlog, alembic, optuna\n",
            "Successfully installed Mako-1.3.8 alembic-1.14.0 colorlog-6.9.0 optuna-4.1.0\n"
          ]
        }
      ],
      "source": [
        "!pip install vnstock\n",
        "!pip install vnstock3 --upgrade\n",
        "!pip install optuna"
      ]
    },
    {
      "cell_type": "code",
      "execution_count": null,
      "metadata": {
        "collapsed": true,
        "id": "mNb71Ix5iaPP",
        "colab": {
          "base_uri": "https://localhost:8080/"
        },
        "outputId": "84fc3746-5a33-479b-a5d5-5cff24bf4dbe"
      },
      "outputs": [
        {
          "output_type": "stream",
          "name": "stdout",
          "text": [
            "\n",
            "    Khi tiếp tục sử dụng Vnstock3, bạn xác nhận rằng bạn đã đọc, hiểu và đồng ý với Chính sách quyền riêng tư và Điều khoản, điều kiện về giấy phép sử dụng Vnstock3.\n",
            "\n",
            "    Chi tiết:\n",
            "\n",
            "    - Giấy phép sử dụng phần mềm: https://vnstocks.com/docs/tai-lieu/giay-phep-su-dung\n",
            "    - Chính sách quyền riêng tư: https://vnstocks.com/docs/tai-lieu/chinh-sach-quyen-rieng-tu\n",
            "    \n"
          ]
        }
      ],
      "source": [
        "import numpy as np\n",
        "import pandas as pd\n",
        "import sys\n",
        "import optuna\n",
        "import seaborn as sns\n",
        "np.random.seed(1)\n",
        "import datetime as dt\n",
        "import time\n",
        "import tensorflow as tf\n",
        "tf.random.set_seed(2)\n",
        "from tensorflow.keras.models import Sequential, load_model\n",
        "from tensorflow.keras.layers import Dense, LSTM\n",
        "from tensorflow.keras import optimizers\n",
        "from tensorflow.keras.callbacks import EarlyStopping\n",
        "from sklearn.preprocessing import MinMaxScaler\n",
        "from sklearn.metrics import mean_squared_error,mean_absolute_percentage_error, r2_score\n",
        "from math import sqrt\n",
        "import matplotlib.pyplot as plt\n",
        "plt.style.use('ggplot')\n",
        "# Lấy dữ liệu từ thư viện vnstock\n",
        "from vnstock import Quote"
      ]
    },
    {
      "cell_type": "markdown",
      "metadata": {
        "id": "t6dDt5RLjk04"
      },
      "source": [
        "#TIỀN XỬ LÝ DỮ LIỆU"
      ]
    },
    {
      "cell_type": "markdown",
      "metadata": {
        "id": "agDgNmptipwJ"
      },
      "source": [
        "Lấy dữ liệu"
      ]
    },
    {
      "cell_type": "code",
      "execution_count": null,
      "metadata": {
        "colab": {
          "base_uri": "https://localhost:8080/"
        },
        "id": "M-vQg_gSDvKv",
        "outputId": "cad14fa2-f397-4b70-fe56-06d179696a24"
      },
      "outputs": [
        {
          "output_type": "stream",
          "name": "stdout",
          "text": [
            "           time    open    high     low   close   volume\n",
            "0    2019-11-20   24.64   24.64   23.96   24.05  2291760\n",
            "1    2019-11-21   24.05   24.18   23.67   23.71  3303950\n",
            "2    2019-11-22   23.84   24.18   23.50   23.71  1625820\n",
            "3    2019-11-25   23.75   24.13   23.62   23.96  1087990\n",
            "4    2019-11-26   24.13   24.22   24.05   24.18   968690\n",
            "...         ...     ...     ...     ...     ...      ...\n",
            "1247 2024-11-15  134.37  134.76  131.69  132.98  6574421\n",
            "1248 2024-11-18  133.08  133.67  131.59  133.08  3910975\n",
            "1249 2024-11-19  132.58  132.68  129.00  129.10  7652727\n",
            "1250 2024-11-20  129.10  131.49  125.83  131.49  8474055\n",
            "1251 2024-11-21  131.49  132.08  130.10  132.08  3183165\n",
            "\n",
            "[1252 rows x 6 columns]\n"
          ]
        }
      ],
      "source": [
        "# Lấy dữ liệu giá cổ phiếu FPT từ vnstock\n",
        "quote = Quote(symbol=\"FPT\", source=\"VCI\")\n",
        "start_date = \"2019-11-20\"\n",
        "end_date = \"2024-11-20\"\n",
        "data = quote.history(start=start_date, end=end_date)\n",
        "\n",
        "df = pd.DataFrame(data)\n",
        "print(data)\n"
      ]
    },
    {
      "cell_type": "markdown",
      "metadata": {
        "id": "sIihyvXdbF5b"
      },
      "source": [
        "Xử lý dữ liệu"
      ]
    },
    {
      "cell_type": "code",
      "execution_count": null,
      "metadata": {
        "id": "AqJHY0JQHynL"
      },
      "outputs": [],
      "source": [
        "# Chuyển đổi dữ liệu về dạng DataFrame và xử lý\n",
        "if df is not None:\n",
        "    df = pd.DataFrame(df)\n",
        "    df.set_index('time', inplace=True)\n",
        "    df.index = pd.to_datetime(df.index)\n",
        "    df.sort_index(inplace=True)\n",
        "else:\n",
        "    raise ValueError(\"Không thể lấy dữ liệu từ vnstock. Vui lòng kiểm tra kết nối hoặc mã cổ phiếu.\")\n",
        "\n",
        "# Loại bỏ các hàng có volume = 0\n",
        "df.drop(df[df['volume'] == 0].index, inplace=True)"
      ]
    },
    {
      "cell_type": "code",
      "execution_count": null,
      "metadata": {
        "id": "jTN_kGBqkT0I"
      },
      "outputs": [],
      "source": [
        "# Chọn biến huấn luyện\n",
        "series = df['close', 'high', 'volume']\n",
        "\n",
        "# Chia dữ liệu thành các tập Train, Validation và Test\n",
        "train_data = series.loc[\"2019-11-20\":\"2022-11-20\"].values.reshape(-1, 1)\n",
        "val_data = series.loc[\"2022-11-21\":\"2023-11-20\"].values.reshape(-1, 1)\n",
        "test_data = series.loc[\"2023-11-21\":\"2024-11-20\"].values.reshape(-1, 1)\n",
        "\n",
        "# Chuẩn hoá dữ liệu\n",
        "sc = MinMaxScaler()\n",
        "train = sc.fit_transform(train_data)\n",
        "val = sc.transform(val_data)\n",
        "test = sc.transform(test_data)"
      ]
    },
    {
      "cell_type": "markdown",
      "metadata": {
        "id": "j6V-ZY2lm4-v"
      },
      "source": [
        "#XÂY DỰNG MÔ HÌNH"
      ]
    },
    {
      "cell_type": "markdown",
      "metadata": {
        "id": "qZnBWBVEllHr"
      },
      "source": [
        "Xây dựng và huấn luyện mô hình trên tập train và validation"
      ]
    },
    {
      "cell_type": "code",
      "execution_count": null,
      "metadata": {
        "id": "yarvNVZzm7b6"
      },
      "outputs": [],
      "source": [
        "earlystop = EarlyStopping(monitor='val_loss', min_delta=0.0001, patience=80, verbose=1, mode='min')\n",
        "callbacks_list = [earlystop]\n",
        "\n",
        "def fit_model(train, val, timesteps, hl, lr, batch, epochs):\n",
        "    X_train, Y_train, X_val, Y_val = [], [], [], []\n",
        "\n",
        "    # Chuẩn bị dữ liệu train\n",
        "    for i in range(timesteps, train.shape[0]):\n",
        "        X_train.append(train[i-timesteps:i])\n",
        "        Y_train.append(train[i][0])\n",
        "    X_train, Y_train = np.array(X_train), np.array(Y_train)\n",
        "\n",
        "    # Chuẩn bị dữ liệu validation\n",
        "    for i in range(timesteps,val.shape[0]):\n",
        "        X_val.append(val[i-timesteps:i])\n",
        "        Y_val.append(val[i][0])\n",
        "    X_val, Y_val = np.array(X_val), np.array(Y_val)\n",
        "\n",
        "    # Xây dựng mô hình\n",
        "    model = Sequential()\n",
        "    model.add(LSTM(X_train.shape[2], input_shape = (X_train.shape[1], X_train.shape[2]), activation = 'relu', return_sequences = True))\n",
        "    for i in range(len(hl)-1):\n",
        "        model.add(LSTM(hl[i], activation = 'relu', return_sequences = True))\n",
        "    model.add(LSTM(hl[-1], activation = 'relu'))\n",
        "    model.add(Dense(1))\n",
        "    model.compile(optimizer = optimizers.Adam(learning_rate = lr), loss = 'mean_squared_error')\n",
        "\n",
        "    # Huấn luyện mô hình\n",
        "    history = model.fit(X_train, Y_train, epochs = epochs, batch_size = batch, validation_data = (X_val, Y_val), verbose = 0, shuffle = False)\n",
        "    return model, history.history['loss'], history.history['val_loss']\n"
      ]
    },
    {
      "cell_type": "markdown",
      "metadata": {
        "id": "0XTFy9bWqVoo"
      },
      "source": [
        "Đánh giá và dự đoán trên tập test"
      ]
    },
    {
      "cell_type": "code",
      "execution_count": null,
      "metadata": {
        "id": "AcywsMGNn-Ec"
      },
      "outputs": [],
      "source": [
        "def evaluate_model(model, test, timesteps):\n",
        "    X_test = []\n",
        "    Y_test = []\n",
        "\n",
        "    # Chuẩn bị dữ liệu test\n",
        "    for i in range(timesteps, test.shape[0]):\n",
        "        X_test.append(test[i-timesteps:i])\n",
        "        Y_test.append(test[i])\n",
        "    X_test, Y_test = np.array(X_test), np.array(Y_test)\n",
        "\n",
        "    # Dự đoán\n",
        "    Y_hat = model.predict(X_test)\n",
        "    mse = mean_squared_error(Y_test, Y_hat)\n",
        "    rmse = sqrt(mse)\n",
        "    mape = mean_absolute_percentage_error(Y_test, Y_hat)\n",
        "    r2 = r2_score(Y_test, Y_hat)\n",
        "    return mse, rmse, mape, r2, Y_test, Y_hat"
      ]
    },
    {
      "cell_type": "markdown",
      "metadata": {
        "id": "dAJnFbV7lpTd"
      },
      "source": [
        "Tối ưu hoá các tham số"
      ]
    },
    {
      "cell_type": "code",
      "execution_count": null,
      "metadata": {
        "colab": {
          "base_uri": "https://localhost:8080/"
        },
        "id": "BZSKnzUEHoL_",
        "outputId": "66896221-98d6-49ee-f981-b88d8d31eb99"
      },
      "outputs": [
        {
          "output_type": "stream",
          "name": "stderr",
          "text": [
            "[I 2025-01-04 05:14:51,575] A new study created in memory with name: no-name-31d33df4-7b14-412c-9ed7-5d1651f6373e\n",
            "suggest_loguniform has been deprecated in v3.0.0. This feature will be removed in v6.0.0. See https://github.com/optuna/optuna/releases/tag/v3.0.0. Use suggest_float(..., log=True) instead.\n",
            "Do not pass an `input_shape`/`input_dim` argument to a layer. When using Sequential models, prefer using an `Input(shape)` object as the first layer in the model instead.\n"
          ]
        },
        {
          "output_type": "stream",
          "name": "stdout",
          "text": [
            "\u001b[1m7/7\u001b[0m \u001b[32m━━━━━━━━━━━━━━━━━━━━\u001b[0m\u001b[37m\u001b[0m \u001b[1m1s\u001b[0m 75ms/step\n"
          ]
        },
        {
          "output_type": "stream",
          "name": "stderr",
          "text": [
            "[I 2025-01-04 05:16:29,376] Trial 0 finished with value: 0.003480062240309347 and parameters: {'timesteps': 30, 'hl_0': 45, 'hl_1': 35, 'lr': 0.0007321889553119995, 'batch_size': 64, 'num_epochs': 150}. Best is trial 0 with value: 0.003480062240309347.\n",
            "suggest_loguniform has been deprecated in v3.0.0. This feature will be removed in v6.0.0. See https://github.com/optuna/optuna/releases/tag/v3.0.0. Use suggest_float(..., log=True) instead.\n",
            "Do not pass an `input_shape`/`input_dim` argument to a layer. When using Sequential models, prefer using an `Input(shape)` object as the first layer in the model instead.\n"
          ]
        },
        {
          "output_type": "stream",
          "name": "stdout",
          "text": [
            "\u001b[1m8/8\u001b[0m \u001b[32m━━━━━━━━━━━━━━━━━━━━\u001b[0m\u001b[37m\u001b[0m \u001b[1m1s\u001b[0m 43ms/step\n"
          ]
        },
        {
          "output_type": "stream",
          "name": "stderr",
          "text": [
            "[I 2025-01-04 05:17:20,874] Trial 1 finished with value: 0.06342190743362465 and parameters: {'timesteps': 20, 'hl_0': 35, 'hl_1': 20, 'lr': 0.0006439569570480634, 'batch_size': 64, 'num_epochs': 150}. Best is trial 0 with value: 0.003480062240309347.\n",
            "suggest_loguniform has been deprecated in v3.0.0. This feature will be removed in v6.0.0. See https://github.com/optuna/optuna/releases/tag/v3.0.0. Use suggest_float(..., log=True) instead.\n",
            "Do not pass an `input_shape`/`input_dim` argument to a layer. When using Sequential models, prefer using an `Input(shape)` object as the first layer in the model instead.\n",
            "WARNING:tensorflow:5 out of the last 16 calls to <function TensorFlowTrainer.make_predict_function.<locals>.one_step_on_data_distributed at 0x780d7c87c790> triggered tf.function retracing. Tracing is expensive and the excessive number of tracings could be due to (1) creating @tf.function repeatedly in a loop, (2) passing tensors with different shapes, (3) passing Python objects instead of tensors. For (1), please define your @tf.function outside of the loop. For (2), @tf.function has reduce_retracing=True option that can avoid unnecessary retracing. For (3), please refer to https://www.tensorflow.org/guide/function#controlling_retracing and https://www.tensorflow.org/api_docs/python/tf/function for  more details.\n"
          ]
        },
        {
          "output_type": "stream",
          "name": "stdout",
          "text": [
            "\u001b[1m8/8\u001b[0m \u001b[32m━━━━━━━━━━━━━━━━━━━━\u001b[0m\u001b[37m\u001b[0m \u001b[1m1s\u001b[0m 41ms/step\n"
          ]
        },
        {
          "output_type": "stream",
          "name": "stderr",
          "text": [
            "[I 2025-01-04 05:18:14,221] Trial 2 finished with value: 0.051308733379863664 and parameters: {'timesteps': 20, 'hl_0': 30, 'hl_1': 40, 'lr': 0.0018072867902391018, 'batch_size': 64, 'num_epochs': 150}. Best is trial 0 with value: 0.003480062240309347.\n",
            "suggest_loguniform has been deprecated in v3.0.0. This feature will be removed in v6.0.0. See https://github.com/optuna/optuna/releases/tag/v3.0.0. Use suggest_float(..., log=True) instead.\n",
            "Do not pass an `input_shape`/`input_dim` argument to a layer. When using Sequential models, prefer using an `Input(shape)` object as the first layer in the model instead.\n",
            "WARNING:tensorflow:5 out of the last 17 calls to <function TensorFlowTrainer.make_predict_function.<locals>.one_step_on_data_distributed at 0x780d7c44d6c0> triggered tf.function retracing. Tracing is expensive and the excessive number of tracings could be due to (1) creating @tf.function repeatedly in a loop, (2) passing tensors with different shapes, (3) passing Python objects instead of tensors. For (1), please define your @tf.function outside of the loop. For (2), @tf.function has reduce_retracing=True option that can avoid unnecessary retracing. For (3), please refer to https://www.tensorflow.org/guide/function#controlling_retracing and https://www.tensorflow.org/api_docs/python/tf/function for  more details.\n"
          ]
        },
        {
          "output_type": "stream",
          "name": "stdout",
          "text": [
            "\u001b[1m8/8\u001b[0m \u001b[32m━━━━━━━━━━━━━━━━━━━━\u001b[0m\u001b[37m\u001b[0m \u001b[1m1s\u001b[0m 44ms/step\n"
          ]
        },
        {
          "output_type": "stream",
          "name": "stderr",
          "text": [
            "[I 2025-01-04 05:20:11,406] Trial 3 finished with value: 1.8976018354988267 and parameters: {'timesteps': 20, 'hl_0': 50, 'hl_1': 50, 'lr': 0.00630356865585419, 'batch_size': 16, 'num_epochs': 100}. Best is trial 0 with value: 0.003480062240309347.\n",
            "suggest_loguniform has been deprecated in v3.0.0. This feature will be removed in v6.0.0. See https://github.com/optuna/optuna/releases/tag/v3.0.0. Use suggest_float(..., log=True) instead.\n",
            "Do not pass an `input_shape`/`input_dim` argument to a layer. When using Sequential models, prefer using an `Input(shape)` object as the first layer in the model instead.\n"
          ]
        },
        {
          "output_type": "stream",
          "name": "stdout",
          "text": [
            "\u001b[1m7/7\u001b[0m \u001b[32m━━━━━━━━━━━━━━━━━━━━\u001b[0m\u001b[37m\u001b[0m \u001b[1m1s\u001b[0m 52ms/step\n"
          ]
        },
        {
          "output_type": "stream",
          "name": "stderr",
          "text": [
            "[I 2025-01-04 05:20:53,995] Trial 4 finished with value: 0.6824235428390082 and parameters: {'timesteps': 30, 'hl_0': 40, 'hl_1': 50, 'lr': 0.00013803750493347332, 'batch_size': 32, 'num_epochs': 50}. Best is trial 0 with value: 0.003480062240309347.\n",
            "suggest_loguniform has been deprecated in v3.0.0. This feature will be removed in v6.0.0. See https://github.com/optuna/optuna/releases/tag/v3.0.0. Use suggest_float(..., log=True) instead.\n",
            "Do not pass an `input_shape`/`input_dim` argument to a layer. When using Sequential models, prefer using an `Input(shape)` object as the first layer in the model instead.\n"
          ]
        },
        {
          "output_type": "stream",
          "name": "stdout",
          "text": [
            "\u001b[1m7/7\u001b[0m \u001b[32m━━━━━━━━━━━━━━━━━━━━\u001b[0m\u001b[37m\u001b[0m \u001b[1m1s\u001b[0m 87ms/step\n"
          ]
        },
        {
          "output_type": "stream",
          "name": "stderr",
          "text": [
            "[I 2025-01-04 05:25:09,111] Trial 5 finished with value: 2.391807795479248 and parameters: {'timesteps': 50, 'hl_0': 45, 'hl_1': 45, 'lr': 0.0059661044662861025, 'batch_size': 32, 'num_epochs': 200}. Best is trial 0 with value: 0.003480062240309347.\n",
            "suggest_loguniform has been deprecated in v3.0.0. This feature will be removed in v6.0.0. See https://github.com/optuna/optuna/releases/tag/v3.0.0. Use suggest_float(..., log=True) instead.\n",
            "Do not pass an `input_shape`/`input_dim` argument to a layer. When using Sequential models, prefer using an `Input(shape)` object as the first layer in the model instead.\n"
          ]
        },
        {
          "output_type": "stream",
          "name": "stdout",
          "text": [
            "\u001b[1m8/8\u001b[0m \u001b[32m━━━━━━━━━━━━━━━━━━━━\u001b[0m\u001b[37m\u001b[0m \u001b[1m1s\u001b[0m 42ms/step\n"
          ]
        },
        {
          "output_type": "stream",
          "name": "stderr",
          "text": [
            "[I 2025-01-04 05:25:57,207] Trial 6 finished with value: 23.427190301854974 and parameters: {'timesteps': 20, 'hl_0': 40, 'hl_1': 50, 'lr': 0.00015129836930656307, 'batch_size': 128, 'num_epochs': 150}. Best is trial 0 with value: 0.003480062240309347.\n",
            "suggest_loguniform has been deprecated in v3.0.0. This feature will be removed in v6.0.0. See https://github.com/optuna/optuna/releases/tag/v3.0.0. Use suggest_float(..., log=True) instead.\n",
            "Do not pass an `input_shape`/`input_dim` argument to a layer. When using Sequential models, prefer using an `Input(shape)` object as the first layer in the model instead.\n"
          ]
        },
        {
          "output_type": "stream",
          "name": "stdout",
          "text": [
            "\u001b[1m6/6\u001b[0m \u001b[32m━━━━━━━━━━━━━━━━━━━━\u001b[0m\u001b[37m\u001b[0m \u001b[1m1s\u001b[0m 65ms/step\n"
          ]
        },
        {
          "output_type": "stream",
          "name": "stderr",
          "text": [
            "[I 2025-01-04 05:36:23,269] Trial 7 finished with value: 9.426399751249324 and parameters: {'timesteps': 60, 'hl_0': 25, 'hl_1': 45, 'lr': 0.00012019457772331441, 'batch_size': 16, 'num_epochs': 250}. Best is trial 0 with value: 0.003480062240309347.\n",
            "suggest_loguniform has been deprecated in v3.0.0. This feature will be removed in v6.0.0. See https://github.com/optuna/optuna/releases/tag/v3.0.0. Use suggest_float(..., log=True) instead.\n",
            "Do not pass an `input_shape`/`input_dim` argument to a layer. When using Sequential models, prefer using an `Input(shape)` object as the first layer in the model instead.\n"
          ]
        },
        {
          "output_type": "stream",
          "name": "stdout",
          "text": [
            "\u001b[1m8/8\u001b[0m \u001b[32m━━━━━━━━━━━━━━━━━━━━\u001b[0m\u001b[37m\u001b[0m \u001b[1m1s\u001b[0m 44ms/step\n"
          ]
        },
        {
          "output_type": "stream",
          "name": "stderr",
          "text": [
            "[I 2025-01-04 05:37:13,024] Trial 8 finished with value: 0.06939190170055883 and parameters: {'timesteps': 20, 'hl_0': 45, 'hl_1': 50, 'lr': 0.0032536104009603817, 'batch_size': 128, 'num_epochs': 150}. Best is trial 0 with value: 0.003480062240309347.\n",
            "suggest_loguniform has been deprecated in v3.0.0. This feature will be removed in v6.0.0. See https://github.com/optuna/optuna/releases/tag/v3.0.0. Use suggest_float(..., log=True) instead.\n",
            "Do not pass an `input_shape`/`input_dim` argument to a layer. When using Sequential models, prefer using an `Input(shape)` object as the first layer in the model instead.\n"
          ]
        },
        {
          "output_type": "stream",
          "name": "stdout",
          "text": [
            "\u001b[1m7/7\u001b[0m \u001b[32m━━━━━━━━━━━━━━━━━━━━\u001b[0m\u001b[37m\u001b[0m \u001b[1m1s\u001b[0m 55ms/step\n"
          ]
        },
        {
          "output_type": "stream",
          "name": "stderr",
          "text": [
            "[I 2025-01-04 05:38:16,037] Trial 9 finished with value: 197.0610676515639 and parameters: {'timesteps': 50, 'hl_0': 45, 'hl_1': 25, 'lr': 0.00048156362383603075, 'batch_size': 128, 'num_epochs': 100}. Best is trial 0 with value: 0.003480062240309347.\n",
            "suggest_loguniform has been deprecated in v3.0.0. This feature will be removed in v6.0.0. See https://github.com/optuna/optuna/releases/tag/v3.0.0. Use suggest_float(..., log=True) instead.\n",
            "Do not pass an `input_shape`/`input_dim` argument to a layer. When using Sequential models, prefer using an `Input(shape)` object as the first layer in the model instead.\n"
          ]
        },
        {
          "output_type": "stream",
          "name": "stdout",
          "text": [
            "\u001b[1m7/7\u001b[0m \u001b[32m━━━━━━━━━━━━━━━━━━━━\u001b[0m\u001b[37m\u001b[0m \u001b[1m1s\u001b[0m 50ms/step\n"
          ]
        },
        {
          "output_type": "stream",
          "name": "stderr",
          "text": [
            "[I 2025-01-04 05:41:11,301] Trial 10 finished with value: 114.19578055987405 and parameters: {'timesteps': 40, 'hl_0': 20, 'hl_1': 30, 'lr': 0.0003518564872058367, 'batch_size': 64, 'num_epochs': 300}. Best is trial 0 with value: 0.003480062240309347.\n",
            "suggest_loguniform has been deprecated in v3.0.0. This feature will be removed in v6.0.0. See https://github.com/optuna/optuna/releases/tag/v3.0.0. Use suggest_float(..., log=True) instead.\n",
            "Do not pass an `input_shape`/`input_dim` argument to a layer. When using Sequential models, prefer using an `Input(shape)` object as the first layer in the model instead.\n"
          ]
        },
        {
          "output_type": "stream",
          "name": "stdout",
          "text": [
            "\u001b[1m7/7\u001b[0m \u001b[32m━━━━━━━━━━━━━━━━━━━━\u001b[0m\u001b[37m\u001b[0m \u001b[1m1s\u001b[0m 48ms/step\n"
          ]
        },
        {
          "output_type": "stream",
          "name": "stderr",
          "text": [
            "[I 2025-01-04 05:42:57,769] Trial 11 finished with value: 9.061703256894326 and parameters: {'timesteps': 30, 'hl_0': 30, 'hl_1': 35, 'lr': 0.0018500082350473093, 'batch_size': 64, 'num_epochs': 200}. Best is trial 0 with value: 0.003480062240309347.\n",
            "suggest_loguniform has been deprecated in v3.0.0. This feature will be removed in v6.0.0. See https://github.com/optuna/optuna/releases/tag/v3.0.0. Use suggest_float(..., log=True) instead.\n",
            "Do not pass an `input_shape`/`input_dim` argument to a layer. When using Sequential models, prefer using an `Input(shape)` object as the first layer in the model instead.\n"
          ]
        },
        {
          "output_type": "stream",
          "name": "stdout",
          "text": [
            "\u001b[1m7/7\u001b[0m \u001b[32m━━━━━━━━━━━━━━━━━━━━\u001b[0m\u001b[37m\u001b[0m \u001b[1m1s\u001b[0m 53ms/step\n"
          ]
        },
        {
          "output_type": "stream",
          "name": "stderr",
          "text": [
            "[I 2025-01-04 05:43:54,663] Trial 12 finished with value: 0.04338407859598122 and parameters: {'timesteps': 30, 'hl_0': 30, 'hl_1': 40, 'lr': 0.001347711584305533, 'batch_size': 64, 'num_epochs': 100}. Best is trial 0 with value: 0.003480062240309347.\n",
            "suggest_loguniform has been deprecated in v3.0.0. This feature will be removed in v6.0.0. See https://github.com/optuna/optuna/releases/tag/v3.0.0. Use suggest_float(..., log=True) instead.\n",
            "Do not pass an `input_shape`/`input_dim` argument to a layer. When using Sequential models, prefer using an `Input(shape)` object as the first layer in the model instead.\n"
          ]
        },
        {
          "output_type": "stream",
          "name": "stdout",
          "text": [
            "\u001b[1m7/7\u001b[0m \u001b[32m━━━━━━━━━━━━━━━━━━━━\u001b[0m\u001b[37m\u001b[0m \u001b[1m1s\u001b[0m 49ms/step\n"
          ]
        },
        {
          "output_type": "stream",
          "name": "stderr",
          "text": [
            "[I 2025-01-04 05:44:27,915] Trial 13 finished with value: 4.562185271501874 and parameters: {'timesteps': 30, 'hl_0': 35, 'hl_1': 35, 'lr': 0.0011011791078141756, 'batch_size': 64, 'num_epochs': 50}. Best is trial 0 with value: 0.003480062240309347.\n",
            "suggest_loguniform has been deprecated in v3.0.0. This feature will be removed in v6.0.0. See https://github.com/optuna/optuna/releases/tag/v3.0.0. Use suggest_float(..., log=True) instead.\n",
            "Do not pass an `input_shape`/`input_dim` argument to a layer. When using Sequential models, prefer using an `Input(shape)` object as the first layer in the model instead.\n"
          ]
        },
        {
          "output_type": "stream",
          "name": "stdout",
          "text": [
            "\u001b[1m7/7\u001b[0m \u001b[32m━━━━━━━━━━━━━━━━━━━━\u001b[0m\u001b[37m\u001b[0m \u001b[1m1s\u001b[0m 64ms/step\n"
          ]
        },
        {
          "output_type": "stream",
          "name": "stderr",
          "text": [
            "[I 2025-01-04 05:45:32,376] Trial 14 finished with value: 0.009957145276636404 and parameters: {'timesteps': 40, 'hl_0': 30, 'hl_1': 40, 'lr': 0.0010176723517798232, 'batch_size': 64, 'num_epochs': 100}. Best is trial 0 with value: 0.003480062240309347.\n",
            "suggest_loguniform has been deprecated in v3.0.0. This feature will be removed in v6.0.0. See https://github.com/optuna/optuna/releases/tag/v3.0.0. Use suggest_float(..., log=True) instead.\n",
            "Do not pass an `input_shape`/`input_dim` argument to a layer. When using Sequential models, prefer using an `Input(shape)` object as the first layer in the model instead.\n"
          ]
        },
        {
          "output_type": "stream",
          "name": "stdout",
          "text": [
            "\u001b[1m7/7\u001b[0m \u001b[32m━━━━━━━━━━━━━━━━━━━━\u001b[0m\u001b[37m\u001b[0m \u001b[1m1s\u001b[0m 54ms/step\n"
          ]
        },
        {
          "output_type": "stream",
          "name": "stderr",
          "text": [
            "[I 2025-01-04 05:46:39,467] Trial 15 finished with value: 29.6703908545044 and parameters: {'timesteps': 40, 'hl_0': 50, 'hl_1': 30, 'lr': 0.00028284858591795905, 'batch_size': 64, 'num_epochs': 100}. Best is trial 0 with value: 0.003480062240309347.\n",
            "suggest_loguniform has been deprecated in v3.0.0. This feature will be removed in v6.0.0. See https://github.com/optuna/optuna/releases/tag/v3.0.0. Use suggest_float(..., log=True) instead.\n",
            "Do not pass an `input_shape`/`input_dim` argument to a layer. When using Sequential models, prefer using an `Input(shape)` object as the first layer in the model instead.\n"
          ]
        },
        {
          "output_type": "stream",
          "name": "stdout",
          "text": [
            "\u001b[1m7/7\u001b[0m \u001b[32m━━━━━━━━━━━━━━━━━━━━\u001b[0m\u001b[37m\u001b[0m \u001b[1m1s\u001b[0m 52ms/step\n"
          ]
        },
        {
          "output_type": "stream",
          "name": "stderr",
          "text": [
            "[I 2025-01-04 05:49:28,281] Trial 16 finished with value: 0.11146341406059125 and parameters: {'timesteps': 50, 'hl_0': 20, 'hl_1': 40, 'lr': 0.0007712146310856886, 'batch_size': 64, 'num_epochs': 250}. Best is trial 0 with value: 0.003480062240309347.\n",
            "suggest_loguniform has been deprecated in v3.0.0. This feature will be removed in v6.0.0. See https://github.com/optuna/optuna/releases/tag/v3.0.0. Use suggest_float(..., log=True) instead.\n",
            "Do not pass an `input_shape`/`input_dim` argument to a layer. When using Sequential models, prefer using an `Input(shape)` object as the first layer in the model instead.\n"
          ]
        },
        {
          "output_type": "stream",
          "name": "stdout",
          "text": [
            "\u001b[1m7/7\u001b[0m \u001b[32m━━━━━━━━━━━━━━━━━━━━\u001b[0m\u001b[37m\u001b[0m \u001b[1m1s\u001b[0m 76ms/step\n"
          ]
        },
        {
          "output_type": "stream",
          "name": "stderr",
          "text": [
            "[I 2025-01-04 05:50:59,235] Trial 17 finished with value: 0.871378036322431 and parameters: {'timesteps': 40, 'hl_0': 40, 'hl_1': 30, 'lr': 0.0034065489083724525, 'batch_size': 16, 'num_epochs': 50}. Best is trial 0 with value: 0.003480062240309347.\n",
            "suggest_loguniform has been deprecated in v3.0.0. This feature will be removed in v6.0.0. See https://github.com/optuna/optuna/releases/tag/v3.0.0. Use suggest_float(..., log=True) instead.\n",
            "Do not pass an `input_shape`/`input_dim` argument to a layer. When using Sequential models, prefer using an `Input(shape)` object as the first layer in the model instead.\n"
          ]
        },
        {
          "output_type": "stream",
          "name": "stdout",
          "text": [
            "\u001b[1m7/7\u001b[0m \u001b[32m━━━━━━━━━━━━━━━━━━━━\u001b[0m\u001b[37m\u001b[0m \u001b[1m1s\u001b[0m 84ms/step\n"
          ]
        },
        {
          "output_type": "stream",
          "name": "stderr",
          "text": [
            "[I 2025-01-04 05:54:35,110] Trial 18 finished with value: 0.48881666945429897 and parameters: {'timesteps': 40, 'hl_0': 25, 'hl_1': 35, 'lr': 0.00024850579747345456, 'batch_size': 32, 'num_epochs': 200}. Best is trial 0 with value: 0.003480062240309347.\n",
            "suggest_loguniform has been deprecated in v3.0.0. This feature will be removed in v6.0.0. See https://github.com/optuna/optuna/releases/tag/v3.0.0. Use suggest_float(..., log=True) instead.\n",
            "Do not pass an `input_shape`/`input_dim` argument to a layer. When using Sequential models, prefer using an `Input(shape)` object as the first layer in the model instead.\n"
          ]
        },
        {
          "output_type": "stream",
          "name": "stdout",
          "text": [
            "\u001b[1m6/6\u001b[0m \u001b[32m━━━━━━━━━━━━━━━━━━━━\u001b[0m\u001b[37m\u001b[0m \u001b[1m1s\u001b[0m 64ms/step\n"
          ]
        },
        {
          "output_type": "stream",
          "name": "stderr",
          "text": [
            "[I 2025-01-04 05:55:50,851] Trial 19 finished with value: 0.01084847050036852 and parameters: {'timesteps': 60, 'hl_0': 25, 'hl_1': 45, 'lr': 0.0005442298054187958, 'batch_size': 64, 'num_epochs': 100}. Best is trial 0 with value: 0.003480062240309347.\n",
            "suggest_loguniform has been deprecated in v3.0.0. This feature will be removed in v6.0.0. See https://github.com/optuna/optuna/releases/tag/v3.0.0. Use suggest_float(..., log=True) instead.\n",
            "Do not pass an `input_shape`/`input_dim` argument to a layer. When using Sequential models, prefer using an `Input(shape)` object as the first layer in the model instead.\n"
          ]
        },
        {
          "output_type": "stream",
          "name": "stdout",
          "text": [
            "\u001b[1m7/7\u001b[0m \u001b[32m━━━━━━━━━━━━━━━━━━━━\u001b[0m\u001b[37m\u001b[0m \u001b[1m1s\u001b[0m 81ms/step\n"
          ]
        },
        {
          "output_type": "stream",
          "name": "stderr",
          "text": [
            "[I 2025-01-04 05:58:06,211] Trial 20 finished with value: 0.0027612273627968488 and parameters: {'timesteps': 30, 'hl_0': 35, 'hl_1': 25, 'lr': 0.003275742243647281, 'batch_size': 64, 'num_epochs': 250}. Best is trial 20 with value: 0.0027612273627968488.\n",
            "suggest_loguniform has been deprecated in v3.0.0. This feature will be removed in v6.0.0. See https://github.com/optuna/optuna/releases/tag/v3.0.0. Use suggest_float(..., log=True) instead.\n",
            "Do not pass an `input_shape`/`input_dim` argument to a layer. When using Sequential models, prefer using an `Input(shape)` object as the first layer in the model instead.\n"
          ]
        },
        {
          "output_type": "stream",
          "name": "stdout",
          "text": [
            "\u001b[1m7/7\u001b[0m \u001b[32m━━━━━━━━━━━━━━━━━━━━\u001b[0m\u001b[37m\u001b[0m \u001b[1m1s\u001b[0m 55ms/step\n"
          ]
        },
        {
          "output_type": "stream",
          "name": "stderr",
          "text": [
            "[I 2025-01-04 06:00:39,590] Trial 21 finished with value: 0.04904765753181855 and parameters: {'timesteps': 30, 'hl_0': 35, 'hl_1': 20, 'lr': 0.00988271681551776, 'batch_size': 64, 'num_epochs': 300}. Best is trial 20 with value: 0.0027612273627968488.\n",
            "suggest_loguniform has been deprecated in v3.0.0. This feature will be removed in v6.0.0. See https://github.com/optuna/optuna/releases/tag/v3.0.0. Use suggest_float(..., log=True) instead.\n",
            "Do not pass an `input_shape`/`input_dim` argument to a layer. When using Sequential models, prefer using an `Input(shape)` object as the first layer in the model instead.\n"
          ]
        },
        {
          "output_type": "stream",
          "name": "stdout",
          "text": [
            "\u001b[1m7/7\u001b[0m \u001b[32m━━━━━━━━━━━━━━━━━━━━\u001b[0m\u001b[37m\u001b[0m \u001b[1m1s\u001b[0m 48ms/step\n"
          ]
        },
        {
          "output_type": "stream",
          "name": "stderr",
          "text": [
            "[I 2025-01-04 06:02:52,820] Trial 22 finished with value: 0.057939430793543086 and parameters: {'timesteps': 30, 'hl_0': 30, 'hl_1': 25, 'lr': 0.0029131517137892886, 'batch_size': 64, 'num_epochs': 250}. Best is trial 20 with value: 0.0027612273627968488.\n",
            "suggest_loguniform has been deprecated in v3.0.0. This feature will be removed in v6.0.0. See https://github.com/optuna/optuna/releases/tag/v3.0.0. Use suggest_float(..., log=True) instead.\n",
            "Do not pass an `input_shape`/`input_dim` argument to a layer. When using Sequential models, prefer using an `Input(shape)` object as the first layer in the model instead.\n"
          ]
        },
        {
          "output_type": "stream",
          "name": "stdout",
          "text": [
            "\u001b[1m7/7\u001b[0m \u001b[32m━━━━━━━━━━━━━━━━━━━━\u001b[0m\u001b[37m\u001b[0m \u001b[1m1s\u001b[0m 80ms/step\n"
          ]
        },
        {
          "output_type": "stream",
          "name": "stderr",
          "text": [
            "[I 2025-01-04 06:04:57,663] Trial 23 finished with value: 0.33738508676686674 and parameters: {'timesteps': 40, 'hl_0': 40, 'hl_1': 25, 'lr': 0.0019694929147376396, 'batch_size': 64, 'num_epochs': 200}. Best is trial 20 with value: 0.0027612273627968488.\n",
            "suggest_loguniform has been deprecated in v3.0.0. This feature will be removed in v6.0.0. See https://github.com/optuna/optuna/releases/tag/v3.0.0. Use suggest_float(..., log=True) instead.\n",
            "Do not pass an `input_shape`/`input_dim` argument to a layer. When using Sequential models, prefer using an `Input(shape)` object as the first layer in the model instead.\n"
          ]
        },
        {
          "output_type": "stream",
          "name": "stdout",
          "text": [
            "\u001b[1m7/7\u001b[0m \u001b[32m━━━━━━━━━━━━━━━━━━━━\u001b[0m\u001b[37m\u001b[0m \u001b[1m1s\u001b[0m 51ms/step\n"
          ]
        },
        {
          "output_type": "stream",
          "name": "stderr",
          "text": [
            "[I 2025-01-04 06:07:16,106] Trial 24 finished with value: 0.10619548842941465 and parameters: {'timesteps': 30, 'hl_0': 35, 'hl_1': 40, 'lr': 0.0009513761108783267, 'batch_size': 64, 'num_epochs': 250}. Best is trial 20 with value: 0.0027612273627968488.\n",
            "suggest_loguniform has been deprecated in v3.0.0. This feature will be removed in v6.0.0. See https://github.com/optuna/optuna/releases/tag/v3.0.0. Use suggest_float(..., log=True) instead.\n",
            "Do not pass an `input_shape`/`input_dim` argument to a layer. When using Sequential models, prefer using an `Input(shape)` object as the first layer in the model instead.\n"
          ]
        },
        {
          "output_type": "stream",
          "name": "stdout",
          "text": [
            "\u001b[1m7/7\u001b[0m \u001b[32m━━━━━━━━━━━━━━━━━━━━\u001b[0m\u001b[37m\u001b[0m \u001b[1m1s\u001b[0m 82ms/step\n"
          ]
        },
        {
          "output_type": "stream",
          "name": "stderr",
          "text": [
            "[I 2025-01-04 06:08:56,454] Trial 25 finished with value: 0.45554820713969485 and parameters: {'timesteps': 50, 'hl_0': 30, 'hl_1': 35, 'lr': 0.0014496103852782013, 'batch_size': 64, 'num_epochs': 150}. Best is trial 20 with value: 0.0027612273627968488.\n",
            "suggest_loguniform has been deprecated in v3.0.0. This feature will be removed in v6.0.0. See https://github.com/optuna/optuna/releases/tag/v3.0.0. Use suggest_float(..., log=True) instead.\n",
            "Do not pass an `input_shape`/`input_dim` argument to a layer. When using Sequential models, prefer using an `Input(shape)` object as the first layer in the model instead.\n"
          ]
        },
        {
          "output_type": "stream",
          "name": "stdout",
          "text": [
            "\u001b[1m7/7\u001b[0m \u001b[32m━━━━━━━━━━━━━━━━━━━━\u001b[0m\u001b[37m\u001b[0m \u001b[1m1s\u001b[0m 77ms/step\n"
          ]
        },
        {
          "output_type": "stream",
          "name": "stderr",
          "text": [
            "[I 2025-01-04 06:14:22,977] Trial 26 finished with value: 0.07945212065153509 and parameters: {'timesteps': 40, 'hl_0': 45, 'hl_1': 30, 'lr': 0.00043312880178212514, 'batch_size': 32, 'num_epochs': 300}. Best is trial 20 with value: 0.0027612273627968488.\n",
            "suggest_loguniform has been deprecated in v3.0.0. This feature will be removed in v6.0.0. See https://github.com/optuna/optuna/releases/tag/v3.0.0. Use suggest_float(..., log=True) instead.\n",
            "Do not pass an `input_shape`/`input_dim` argument to a layer. When using Sequential models, prefer using an `Input(shape)` object as the first layer in the model instead.\n"
          ]
        },
        {
          "output_type": "stream",
          "name": "stdout",
          "text": [
            "\u001b[1m7/7\u001b[0m \u001b[32m━━━━━━━━━━━━━━━━━━━━\u001b[0m\u001b[37m\u001b[0m \u001b[1m1s\u001b[0m 48ms/step\n"
          ]
        },
        {
          "output_type": "stream",
          "name": "stderr",
          "text": [
            "[I 2025-01-04 06:18:39,885] Trial 27 finished with value: 0.32950321267156946 and parameters: {'timesteps': 30, 'hl_0': 40, 'hl_1': 25, 'lr': 0.002507622073355545, 'batch_size': 16, 'num_epochs': 200}. Best is trial 20 with value: 0.0027612273627968488.\n",
            "suggest_loguniform has been deprecated in v3.0.0. This feature will be removed in v6.0.0. See https://github.com/optuna/optuna/releases/tag/v3.0.0. Use suggest_float(..., log=True) instead.\n",
            "Do not pass an `input_shape`/`input_dim` argument to a layer. When using Sequential models, prefer using an `Input(shape)` object as the first layer in the model instead.\n"
          ]
        },
        {
          "output_type": "stream",
          "name": "stdout",
          "text": [
            "\u001b[1m7/7\u001b[0m \u001b[32m━━━━━━━━━━━━━━━━━━━━\u001b[0m\u001b[37m\u001b[0m \u001b[1m1s\u001b[0m 71ms/step\n"
          ]
        },
        {
          "output_type": "stream",
          "name": "stderr",
          "text": [
            "[I 2025-01-04 06:19:11,513] Trial 28 finished with value: 0.00949739595884363 and parameters: {'timesteps': 30, 'hl_0': 25, 'hl_1': 20, 'lr': 0.004824908463524093, 'batch_size': 128, 'num_epochs': 100}. Best is trial 20 with value: 0.0027612273627968488.\n",
            "suggest_loguniform has been deprecated in v3.0.0. This feature will be removed in v6.0.0. See https://github.com/optuna/optuna/releases/tag/v3.0.0. Use suggest_float(..., log=True) instead.\n",
            "Do not pass an `input_shape`/`input_dim` argument to a layer. When using Sequential models, prefer using an `Input(shape)` object as the first layer in the model instead.\n"
          ]
        },
        {
          "output_type": "stream",
          "name": "stdout",
          "text": [
            "\u001b[1m8/8\u001b[0m \u001b[32m━━━━━━━━━━━━━━━━━━━━\u001b[0m\u001b[37m\u001b[0m \u001b[1m1s\u001b[0m 40ms/step\n"
          ]
        },
        {
          "output_type": "stream",
          "name": "stderr",
          "text": [
            "[I 2025-01-04 06:19:45,963] Trial 29 finished with value: 0.025951340058483888 and parameters: {'timesteps': 20, 'hl_0': 25, 'hl_1': 20, 'lr': 0.004759705705537523, 'batch_size': 128, 'num_epochs': 150}. Best is trial 20 with value: 0.0027612273627968488.\n",
            "suggest_loguniform has been deprecated in v3.0.0. This feature will be removed in v6.0.0. See https://github.com/optuna/optuna/releases/tag/v3.0.0. Use suggest_float(..., log=True) instead.\n",
            "Do not pass an `input_shape`/`input_dim` argument to a layer. When using Sequential models, prefer using an `Input(shape)` object as the first layer in the model instead.\n"
          ]
        },
        {
          "output_type": "stream",
          "name": "stdout",
          "text": [
            "\u001b[1m7/7\u001b[0m \u001b[32m━━━━━━━━━━━━━━━━━━━━\u001b[0m\u001b[37m\u001b[0m \u001b[1m1s\u001b[0m 49ms/step\n"
          ]
        },
        {
          "output_type": "stream",
          "name": "stderr",
          "text": [
            "[I 2025-01-04 06:20:40,978] Trial 30 finished with value: 0.1374063737728807 and parameters: {'timesteps': 30, 'hl_0': 50, 'hl_1': 20, 'lr': 0.008213067231307627, 'batch_size': 128, 'num_epochs': 150}. Best is trial 20 with value: 0.0027612273627968488.\n",
            "suggest_loguniform has been deprecated in v3.0.0. This feature will be removed in v6.0.0. See https://github.com/optuna/optuna/releases/tag/v3.0.0. Use suggest_float(..., log=True) instead.\n",
            "Do not pass an `input_shape`/`input_dim` argument to a layer. When using Sequential models, prefer using an `Input(shape)` object as the first layer in the model instead.\n"
          ]
        },
        {
          "output_type": "stream",
          "name": "stdout",
          "text": [
            "\u001b[1m7/7\u001b[0m \u001b[32m━━━━━━━━━━━━━━━━━━━━\u001b[0m\u001b[37m\u001b[0m \u001b[1m1s\u001b[0m 50ms/step\n"
          ]
        },
        {
          "output_type": "stream",
          "name": "stderr",
          "text": [
            "[I 2025-01-04 06:21:16,368] Trial 31 finished with value: 0.2587012979097951 and parameters: {'timesteps': 30, 'hl_0': 35, 'hl_1': 20, 'lr': 0.000749015118048939, 'batch_size': 128, 'num_epochs': 100}. Best is trial 20 with value: 0.0027612273627968488.\n",
            "suggest_loguniform has been deprecated in v3.0.0. This feature will be removed in v6.0.0. See https://github.com/optuna/optuna/releases/tag/v3.0.0. Use suggest_float(..., log=True) instead.\n",
            "Do not pass an `input_shape`/`input_dim` argument to a layer. When using Sequential models, prefer using an `Input(shape)` object as the first layer in the model instead.\n"
          ]
        },
        {
          "output_type": "stream",
          "name": "stdout",
          "text": [
            "\u001b[1m7/7\u001b[0m \u001b[32m━━━━━━━━━━━━━━━━━━━━\u001b[0m\u001b[37m\u001b[0m \u001b[1m1s\u001b[0m 75ms/step\n"
          ]
        },
        {
          "output_type": "stream",
          "name": "stderr",
          "text": [
            "[I 2025-01-04 06:21:36,682] Trial 32 finished with value: 0.007746459219379783 and parameters: {'timesteps': 40, 'hl_0': 25, 'hl_1': 25, 'lr': 0.0037479988912913847, 'batch_size': 128, 'num_epochs': 50}. Best is trial 20 with value: 0.0027612273627968488.\n",
            "suggest_loguniform has been deprecated in v3.0.0. This feature will be removed in v6.0.0. See https://github.com/optuna/optuna/releases/tag/v3.0.0. Use suggest_float(..., log=True) instead.\n",
            "Do not pass an `input_shape`/`input_dim` argument to a layer. When using Sequential models, prefer using an `Input(shape)` object as the first layer in the model instead.\n"
          ]
        },
        {
          "output_type": "stream",
          "name": "stdout",
          "text": [
            "\u001b[1m8/8\u001b[0m \u001b[32m━━━━━━━━━━━━━━━━━━━━\u001b[0m\u001b[37m\u001b[0m \u001b[1m1s\u001b[0m 61ms/step\n"
          ]
        },
        {
          "output_type": "stream",
          "name": "stderr",
          "text": [
            "[I 2025-01-04 06:21:51,622] Trial 33 finished with value: 0.011316889096463358 and parameters: {'timesteps': 20, 'hl_0': 20, 'hl_1': 25, 'lr': 0.00426662112345965, 'batch_size': 128, 'num_epochs': 50}. Best is trial 20 with value: 0.0027612273627968488.\n",
            "suggest_loguniform has been deprecated in v3.0.0. This feature will be removed in v6.0.0. See https://github.com/optuna/optuna/releases/tag/v3.0.0. Use suggest_float(..., log=True) instead.\n",
            "Do not pass an `input_shape`/`input_dim` argument to a layer. When using Sequential models, prefer using an `Input(shape)` object as the first layer in the model instead.\n"
          ]
        },
        {
          "output_type": "stream",
          "name": "stdout",
          "text": [
            "\u001b[1m8/8\u001b[0m \u001b[32m━━━━━━━━━━━━━━━━━━━━\u001b[0m\u001b[37m\u001b[0m \u001b[1m1s\u001b[0m 65ms/step\n"
          ]
        },
        {
          "output_type": "stream",
          "name": "stderr",
          "text": [
            "[I 2025-01-04 06:22:06,769] Trial 34 finished with value: 0.05987540726977416 and parameters: {'timesteps': 20, 'hl_0': 25, 'hl_1': 20, 'lr': 0.005711404729614791, 'batch_size': 128, 'num_epochs': 50}. Best is trial 20 with value: 0.0027612273627968488.\n",
            "suggest_loguniform has been deprecated in v3.0.0. This feature will be removed in v6.0.0. See https://github.com/optuna/optuna/releases/tag/v3.0.0. Use suggest_float(..., log=True) instead.\n",
            "Do not pass an `input_shape`/`input_dim` argument to a layer. When using Sequential models, prefer using an `Input(shape)` object as the first layer in the model instead.\n"
          ]
        },
        {
          "output_type": "stream",
          "name": "stdout",
          "text": [
            "\u001b[1m7/7\u001b[0m \u001b[32m━━━━━━━━━━━━━━━━━━━━\u001b[0m\u001b[37m\u001b[0m \u001b[1m1s\u001b[0m 49ms/step\n"
          ]
        },
        {
          "output_type": "stream",
          "name": "stderr",
          "text": [
            "[I 2025-01-04 06:22:25,968] Trial 35 finished with value: 0.8506355385677586 and parameters: {'timesteps': 40, 'hl_0': 20, 'hl_1': 25, 'lr': 0.004300585544643887, 'batch_size': 128, 'num_epochs': 50}. Best is trial 20 with value: 0.0027612273627968488.\n",
            "suggest_loguniform has been deprecated in v3.0.0. This feature will be removed in v6.0.0. See https://github.com/optuna/optuna/releases/tag/v3.0.0. Use suggest_float(..., log=True) instead.\n",
            "Do not pass an `input_shape`/`input_dim` argument to a layer. When using Sequential models, prefer using an `Input(shape)` object as the first layer in the model instead.\n"
          ]
        },
        {
          "output_type": "stream",
          "name": "stdout",
          "text": [
            "\u001b[1m7/7\u001b[0m \u001b[32m━━━━━━━━━━━━━━━━━━━━\u001b[0m\u001b[37m\u001b[0m \u001b[1m1s\u001b[0m 49ms/step\n"
          ]
        },
        {
          "output_type": "stream",
          "name": "stderr",
          "text": [
            "[I 2025-01-04 06:23:00,071] Trial 36 finished with value: 0.16765111040952968 and parameters: {'timesteps': 30, 'hl_0': 25, 'hl_1': 30, 'lr': 0.0077851513837991935, 'batch_size': 128, 'num_epochs': 100}. Best is trial 20 with value: 0.0027612273627968488.\n",
            "suggest_loguniform has been deprecated in v3.0.0. This feature will be removed in v6.0.0. See https://github.com/optuna/optuna/releases/tag/v3.0.0. Use suggest_float(..., log=True) instead.\n",
            "Do not pass an `input_shape`/`input_dim` argument to a layer. When using Sequential models, prefer using an `Input(shape)` object as the first layer in the model instead.\n"
          ]
        },
        {
          "output_type": "stream",
          "name": "stdout",
          "text": [
            "\u001b[1m8/8\u001b[0m \u001b[32m━━━━━━━━━━━━━━━━━━━━\u001b[0m\u001b[37m\u001b[0m \u001b[1m1s\u001b[0m 65ms/step\n"
          ]
        },
        {
          "output_type": "stream",
          "name": "stderr",
          "text": [
            "[I 2025-01-04 06:24:30,477] Trial 37 finished with value: 0.041030195210361414 and parameters: {'timesteps': 20, 'hl_0': 35, 'hl_1': 20, 'lr': 0.002345389815145838, 'batch_size': 32, 'num_epochs': 150}. Best is trial 20 with value: 0.0027612273627968488.\n",
            "suggest_loguniform has been deprecated in v3.0.0. This feature will be removed in v6.0.0. See https://github.com/optuna/optuna/releases/tag/v3.0.0. Use suggest_float(..., log=True) instead.\n",
            "Do not pass an `input_shape`/`input_dim` argument to a layer. When using Sequential models, prefer using an `Input(shape)` object as the first layer in the model instead.\n"
          ]
        },
        {
          "output_type": "stream",
          "name": "stdout",
          "text": [
            "\u001b[1m7/7\u001b[0m \u001b[32m━━━━━━━━━━━━━━━━━━━━\u001b[0m\u001b[37m\u001b[0m \u001b[1m1s\u001b[0m 50ms/step\n"
          ]
        },
        {
          "output_type": "stream",
          "name": "stderr",
          "text": [
            "[I 2025-01-04 06:24:51,889] Trial 38 finished with value: 0.043770611119325314 and parameters: {'timesteps': 30, 'hl_0': 50, 'hl_1': 25, 'lr': 0.0015187168414295754, 'batch_size': 128, 'num_epochs': 50}. Best is trial 20 with value: 0.0027612273627968488.\n",
            "suggest_loguniform has been deprecated in v3.0.0. This feature will be removed in v6.0.0. See https://github.com/optuna/optuna/releases/tag/v3.0.0. Use suggest_float(..., log=True) instead.\n",
            "Do not pass an `input_shape`/`input_dim` argument to a layer. When using Sequential models, prefer using an `Input(shape)` object as the first layer in the model instead.\n"
          ]
        },
        {
          "output_type": "stream",
          "name": "stdout",
          "text": [
            "\u001b[1m7/7\u001b[0m \u001b[32m━━━━━━━━━━━━━━━━━━━━\u001b[0m\u001b[37m\u001b[0m \u001b[1m1s\u001b[0m 82ms/step\n"
          ]
        },
        {
          "output_type": "stream",
          "name": "stderr",
          "text": [
            "[I 2025-01-04 06:30:22,297] Trial 39 finished with value: 2.1261113415323174 and parameters: {'timesteps': 50, 'hl_0': 45, 'hl_1': 30, 'lr': 0.005579699186982575, 'batch_size': 16, 'num_epochs': 150}. Best is trial 20 with value: 0.0027612273627968488.\n",
            "suggest_loguniform has been deprecated in v3.0.0. This feature will be removed in v6.0.0. See https://github.com/optuna/optuna/releases/tag/v3.0.0. Use suggest_float(..., log=True) instead.\n",
            "Do not pass an `input_shape`/`input_dim` argument to a layer. When using Sequential models, prefer using an `Input(shape)` object as the first layer in the model instead.\n"
          ]
        },
        {
          "output_type": "stream",
          "name": "stdout",
          "text": [
            "\u001b[1m8/8\u001b[0m \u001b[32m━━━━━━━━━━━━━━━━━━━━\u001b[0m\u001b[37m\u001b[0m \u001b[1m1s\u001b[0m 65ms/step\n"
          ]
        },
        {
          "output_type": "stream",
          "name": "stderr",
          "text": [
            "[I 2025-01-04 06:30:48,060] Trial 40 finished with value: 0.05547399295115352 and parameters: {'timesteps': 20, 'hl_0': 30, 'hl_1': 20, 'lr': 0.003360515790216372, 'batch_size': 128, 'num_epochs': 100}. Best is trial 20 with value: 0.0027612273627968488.\n",
            "suggest_loguniform has been deprecated in v3.0.0. This feature will be removed in v6.0.0. See https://github.com/optuna/optuna/releases/tag/v3.0.0. Use suggest_float(..., log=True) instead.\n",
            "Do not pass an `input_shape`/`input_dim` argument to a layer. When using Sequential models, prefer using an `Input(shape)` object as the first layer in the model instead.\n"
          ]
        },
        {
          "output_type": "stream",
          "name": "stdout",
          "text": [
            "\u001b[1m7/7\u001b[0m \u001b[32m━━━━━━━━━━━━━━━━━━━━\u001b[0m\u001b[37m\u001b[0m \u001b[1m1s\u001b[0m 51ms/step\n"
          ]
        },
        {
          "output_type": "stream",
          "name": "stderr",
          "text": [
            "[I 2025-01-04 06:31:53,128] Trial 41 finished with value: 1.1835680867411862 and parameters: {'timesteps': 40, 'hl_0': 30, 'hl_1': 40, 'lr': 0.0006435718019136104, 'batch_size': 64, 'num_epochs': 100}. Best is trial 20 with value: 0.0027612273627968488.\n",
            "suggest_loguniform has been deprecated in v3.0.0. This feature will be removed in v6.0.0. See https://github.com/optuna/optuna/releases/tag/v3.0.0. Use suggest_float(..., log=True) instead.\n",
            "Do not pass an `input_shape`/`input_dim` argument to a layer. When using Sequential models, prefer using an `Input(shape)` object as the first layer in the model instead.\n"
          ]
        },
        {
          "output_type": "stream",
          "name": "stdout",
          "text": [
            "\u001b[1m7/7\u001b[0m \u001b[32m━━━━━━━━━━━━━━━━━━━━\u001b[0m\u001b[37m\u001b[0m \u001b[1m1s\u001b[0m 78ms/step\n"
          ]
        },
        {
          "output_type": "stream",
          "name": "stderr",
          "text": [
            "[I 2025-01-04 06:32:56,829] Trial 42 finished with value: 0.18950954402377235 and parameters: {'timesteps': 40, 'hl_0': 30, 'hl_1': 40, 'lr': 0.0010277922869097289, 'batch_size': 64, 'num_epochs': 100}. Best is trial 20 with value: 0.0027612273627968488.\n",
            "suggest_loguniform has been deprecated in v3.0.0. This feature will be removed in v6.0.0. See https://github.com/optuna/optuna/releases/tag/v3.0.0. Use suggest_float(..., log=True) instead.\n",
            "Do not pass an `input_shape`/`input_dim` argument to a layer. When using Sequential models, prefer using an `Input(shape)` object as the first layer in the model instead.\n"
          ]
        },
        {
          "output_type": "stream",
          "name": "stdout",
          "text": [
            "\u001b[1m7/7\u001b[0m \u001b[32m━━━━━━━━━━━━━━━━━━━━\u001b[0m\u001b[37m\u001b[0m \u001b[1m1s\u001b[0m 53ms/step\n"
          ]
        },
        {
          "output_type": "stream",
          "name": "stderr",
          "text": [
            "[I 2025-01-04 06:33:32,976] Trial 43 finished with value: 0.008361158665362507 and parameters: {'timesteps': 50, 'hl_0': 25, 'hl_1': 45, 'lr': 0.002312700837683036, 'batch_size': 64, 'num_epochs': 50}. Best is trial 20 with value: 0.0027612273627968488.\n",
            "suggest_loguniform has been deprecated in v3.0.0. This feature will be removed in v6.0.0. See https://github.com/optuna/optuna/releases/tag/v3.0.0. Use suggest_float(..., log=True) instead.\n",
            "Do not pass an `input_shape`/`input_dim` argument to a layer. When using Sequential models, prefer using an `Input(shape)` object as the first layer in the model instead.\n"
          ]
        },
        {
          "output_type": "stream",
          "name": "stdout",
          "text": [
            "\u001b[1m7/7\u001b[0m \u001b[32m━━━━━━━━━━━━━━━━━━━━\u001b[0m\u001b[37m\u001b[0m \u001b[1m1s\u001b[0m 53ms/step\n"
          ]
        },
        {
          "output_type": "stream",
          "name": "stderr",
          "text": [
            "[I 2025-01-04 06:34:04,276] Trial 44 finished with value: 0.0500426520626416 and parameters: {'timesteps': 50, 'hl_0': 25, 'hl_1': 45, 'lr': 0.003878334213299099, 'batch_size': 128, 'num_epochs': 50}. Best is trial 20 with value: 0.0027612273627968488.\n",
            "suggest_loguniform has been deprecated in v3.0.0. This feature will be removed in v6.0.0. See https://github.com/optuna/optuna/releases/tag/v3.0.0. Use suggest_float(..., log=True) instead.\n",
            "Do not pass an `input_shape`/`input_dim` argument to a layer. When using Sequential models, prefer using an `Input(shape)` object as the first layer in the model instead.\n"
          ]
        },
        {
          "output_type": "stream",
          "name": "stdout",
          "text": [
            "\u001b[1m6/6\u001b[0m \u001b[32m━━━━━━━━━━━━━━━━━━━━\u001b[0m\u001b[37m\u001b[0m \u001b[1m1s\u001b[0m 64ms/step\n"
          ]
        },
        {
          "output_type": "stream",
          "name": "stderr",
          "text": [
            "[I 2025-01-04 06:34:44,311] Trial 45 finished with value: 0.02389179658983305 and parameters: {'timesteps': 60, 'hl_0': 20, 'hl_1': 45, 'lr': 0.002111774354375029, 'batch_size': 64, 'num_epochs': 50}. Best is trial 20 with value: 0.0027612273627968488.\n",
            "suggest_loguniform has been deprecated in v3.0.0. This feature will be removed in v6.0.0. See https://github.com/optuna/optuna/releases/tag/v3.0.0. Use suggest_float(..., log=True) instead.\n",
            "Do not pass an `input_shape`/`input_dim` argument to a layer. When using Sequential models, prefer using an `Input(shape)` object as the first layer in the model instead.\n"
          ]
        },
        {
          "output_type": "stream",
          "name": "stdout",
          "text": [
            "\u001b[1m7/7\u001b[0m \u001b[32m━━━━━━━━━━━━━━━━━━━━\u001b[0m\u001b[37m\u001b[0m \u001b[1m1s\u001b[0m 53ms/step\n"
          ]
        },
        {
          "output_type": "stream",
          "name": "stderr",
          "text": [
            "[I 2025-01-04 06:35:49,572] Trial 46 finished with value: 0.21581113596159746 and parameters: {'timesteps': 50, 'hl_0': 25, 'hl_1': 50, 'lr': 0.0027364880693603938, 'batch_size': 32, 'num_epochs': 50}. Best is trial 20 with value: 0.0027612273627968488.\n",
            "suggest_loguniform has been deprecated in v3.0.0. This feature will be removed in v6.0.0. See https://github.com/optuna/optuna/releases/tag/v3.0.0. Use suggest_float(..., log=True) instead.\n",
            "Do not pass an `input_shape`/`input_dim` argument to a layer. When using Sequential models, prefer using an `Input(shape)` object as the first layer in the model instead.\n"
          ]
        },
        {
          "output_type": "stream",
          "name": "stdout",
          "text": [
            "\u001b[1m7/7\u001b[0m \u001b[32m━━━━━━━━━━━━━━━━━━━━\u001b[0m\u001b[37m\u001b[0m \u001b[1m1s\u001b[0m 56ms/step\n"
          ]
        },
        {
          "output_type": "stream",
          "name": "stderr",
          "text": [
            "[I 2025-01-04 06:37:36,640] Trial 47 finished with value: 0.032235286563141584 and parameters: {'timesteps': 30, 'hl_0': 25, 'hl_1': 35, 'lr': 0.006433209771735853, 'batch_size': 64, 'num_epochs': 200}. Best is trial 20 with value: 0.0027612273627968488.\n",
            "suggest_loguniform has been deprecated in v3.0.0. This feature will be removed in v6.0.0. See https://github.com/optuna/optuna/releases/tag/v3.0.0. Use suggest_float(..., log=True) instead.\n",
            "Do not pass an `input_shape`/`input_dim` argument to a layer. When using Sequential models, prefer using an `Input(shape)` object as the first layer in the model instead.\n"
          ]
        },
        {
          "output_type": "stream",
          "name": "stdout",
          "text": [
            "\u001b[1m6/6\u001b[0m \u001b[32m━━━━━━━━━━━━━━━━━━━━\u001b[0m\u001b[37m\u001b[0m \u001b[1m1s\u001b[0m 65ms/step\n"
          ]
        },
        {
          "output_type": "stream",
          "name": "stderr",
          "text": [
            "[I 2025-01-04 06:41:47,793] Trial 48 finished with value: 0.22803818009205912 and parameters: {'timesteps': 60, 'hl_0': 40, 'hl_1': 25, 'lr': 0.0016288390969147275, 'batch_size': 16, 'num_epochs': 100}. Best is trial 20 with value: 0.0027612273627968488.\n",
            "suggest_loguniform has been deprecated in v3.0.0. This feature will be removed in v6.0.0. See https://github.com/optuna/optuna/releases/tag/v3.0.0. Use suggest_float(..., log=True) instead.\n",
            "Do not pass an `input_shape`/`input_dim` argument to a layer. When using Sequential models, prefer using an `Input(shape)` object as the first layer in the model instead.\n"
          ]
        },
        {
          "output_type": "stream",
          "name": "stdout",
          "text": [
            "\u001b[1m7/7\u001b[0m \u001b[32m━━━━━━━━━━━━━━━━━━━━\u001b[0m\u001b[37m\u001b[0m \u001b[1m1s\u001b[0m 51ms/step\n"
          ]
        },
        {
          "output_type": "stream",
          "name": "stderr",
          "text": [
            "[I 2025-01-04 06:42:22,226] Trial 49 finished with value: 0.007340300279752064 and parameters: {'timesteps': 40, 'hl_0': 20, 'hl_1': 25, 'lr': 0.005117264421051969, 'batch_size': 64, 'num_epochs': 50}. Best is trial 20 with value: 0.0027612273627968488.\n"
          ]
        },
        {
          "output_type": "stream",
          "name": "stdout",
          "text": [
            "Best params: {'timesteps': 30, 'hl_0': 35, 'hl_1': 25, 'lr': 0.003275742243647281, 'batch_size': 64, 'num_epochs': 250}\n"
          ]
        }
      ],
      "source": [
        "# Hàm mục tiêu để tối ưu hoá các tham số với Bayesian Optimization\n",
        "def objective(trial):\n",
        "    timesteps = trial.suggest_int('timesteps', 20, 60, step=10)\n",
        "    hl = [trial.suggest_int(f'hl_{i}', 20, 50, step=5) for i in range(2)]\n",
        "    lr = trial.suggest_loguniform('lr', 1e-4, 1e-2)\n",
        "    batch_size = trial.suggest_categorical('batch_size', [16, 32, 64, 128])\n",
        "    num_epochs = trial.suggest_int('num_epochs', 50, 300, step=50)\n",
        "\n",
        "    model, train_loss, val_loss = fit_model(train, val, timesteps, hl, lr, batch_size, num_epochs)\n",
        "\n",
        "    mse, rmse, mape, r2, _, _ = evaluate_model(model, test, timesteps)\n",
        "    return mse\n",
        "\n",
        "study = optuna.create_study(direction='minimize')\n",
        "study.optimize(objective, n_trials=50)\n",
        "\n",
        "print(\"Best params:\", study.best_params)\n"
      ]
    },
    {
      "cell_type": "markdown",
      "metadata": {
        "id": "b3pgZDQeq3gd"
      },
      "source": [
        "Huấn luyện mô hình với tham số tối ưu"
      ]
    },
    {
      "cell_type": "code",
      "execution_count": null,
      "metadata": {
        "colab": {
          "base_uri": "https://localhost:8080/",
          "height": 589
        },
        "id": "dC-6FRJMk9J2",
        "outputId": "9245e969-ea26-42c4-8b5d-1953d36b39d3"
      },
      "outputs": [
        {
          "output_type": "stream",
          "name": "stderr",
          "text": [
            "Do not pass an `input_shape`/`input_dim` argument to a layer. When using Sequential models, prefer using an `Input(shape)` object as the first layer in the model instead.\n"
          ]
        },
        {
          "output_type": "display_data",
          "data": {
            "text/plain": [
              "<Figure size 1200x600 with 1 Axes>"
            ],
            "image/png": "[encoded data removed]"
          },
          "metadata": {}
        }
      ],
      "source": [
        "timesteps = 30\n",
        "hl = [35,25]\n",
        "lr =  0.003275742243647281\n",
        "batch_size = 64\n",
        "num_epochs = 250\n",
        "\n",
        "model, train_error, val_error = fit_model(train, val, timesteps, hl, lr, batch_size, num_epochs)\n",
        "\n",
        "# Đồ thị biểu diễn sự mất mát trong quá trình huấn luyện và kiểm tra\n",
        "def plot_error(train_loss, val_loss):\n",
        "    plt.figure(figsize=(12, 6))\n",
        "    plt.plot(train_loss, c = 'r')\n",
        "    plt.plot(val_loss, c = 'b')\n",
        "    plt.ylabel('Loss')\n",
        "    plt.xlabel('Epochs')\n",
        "    plt.title('Đồ thị biểu diễn sự mất mát trong quá trình Train và Valid')\n",
        "    plt.legend(['train', 'val'], loc = 'upper right')\n",
        "    plt.show()\n",
        "plot_error(train_error, val_error)"
      ]
    },
    {
      "cell_type": "markdown",
      "metadata": {
        "id": "tXIK5UlMn8oe"
      },
      "source": [
        "#ĐÁNH GIÁ KẾT QUẢ"
      ]
    },
    {
      "cell_type": "code",
      "execution_count": null,
      "metadata": {
        "colab": {
          "base_uri": "https://localhost:8080/",
          "height": 659
        },
        "id": "xbJhadj7oOCQ",
        "outputId": "cf408723-cb71-4ebd-c995-afc7918648b0"
      },
      "outputs": [
        {
          "output_type": "stream",
          "name": "stdout",
          "text": [
            "\u001b[1m7/7\u001b[0m \u001b[32m━━━━━━━━━━━━━━━━━━━━\u001b[0m\u001b[37m\u001b[0m \u001b[1m1s\u001b[0m 53ms/step\n",
            "MSE = 0.008631625924682858\n",
            "RMSE = 0.09290654403583667\n",
            "MAPE = 0.04327379946607584\n",
            "R-Squared Score = 0.9331965352394906\n"
          ]
        },
        {
          "output_type": "display_data",
          "data": {
            "text/plain": [
              "<Figure size 1200x600 with 1 Axes>"
            ],
            "image/png": "[encoded data removed]"
          },
          "metadata": {}
        }
      ],
      "source": [
        "mse, rmse, mape, r2, true, predicted = evaluate_model(model, test, timesteps)\n",
        "print('MSE = {}'.format(mse))\n",
        "print('RMSE = {}'.format(rmse))\n",
        "print('MAPE = {}'.format(mape))\n",
        "print('R-Squared Score = {}'.format(r2))\n",
        "\n",
        "def plot_data(Y_test, Y_hat):\n",
        "    plt.figure(figsize=(12, 6))\n",
        "    plt.plot(Y_test, color='r', label='Giá thực tế')\n",
        "    plt.plot(Y_hat, color='b', label='Giá dự đoán')\n",
        "    plt.xlabel('Ngày')\n",
        "    plt.ylabel('Giá')\n",
        "    plt.title(\"Dự đoán giá cổ phiếu bằng mô hình LSTM đa biến\")\n",
        "    plt.legend(loc='lower right')\n",
        "    plt.grid(True)\n",
        "    plt.show()\n",
        "plot_data(true, predicted)"
      ]
    },
    {
      "cell_type": "code",
      "execution_count": null,
      "metadata": {
        "id": "mIsyBSDBmAPu",
        "colab": {
          "base_uri": "https://localhost:8080/"
        },
        "outputId": "c8bbb26d-55ec-4f8c-85f8-8d15dd8885b7"
      },
      "outputs": [
        {
          "output_type": "stream",
          "name": "stdout",
          "text": [
            "Bảng so sánh giá trị thực tế và dự đoán (Đơn vị: nghìn đồng):\n",
            "    Giá thực tế  Giá dự đoán  Chênh lệch\n",
            "0         82.59    80.488579    2.101421\n",
            "1         83.36    80.465775    2.894225\n",
            "2         83.53    80.842026    2.687974\n",
            "3         83.45    81.171661    2.278339\n",
            "4         82.85    81.324219    1.525781\n",
            "5         81.22    81.088089    0.131911\n",
            "6         81.48    80.106255    1.373745\n",
            "7         81.22    79.632454    1.587546\n",
            "8         81.82    79.261604    2.558396\n",
            "9         82.08    79.394814    2.685186\n",
            "10        82.08    79.671021    2.408979\n",
            "11        81.99    79.884628    2.105372\n",
            "12        82.59    79.982033    2.607967\n",
            "13        82.68    80.326660    2.353340\n",
            "14        81.99    80.572182    1.417818\n",
            "15        81.48    80.359230    1.120770\n"
          ]
        }
      ],
      "source": [
        "# Tạo DataFrame từ giá trị thực tế và giá trị dự đoán\n",
        "result_df = pd.DataFrame({\n",
        "    'Actual': true.flatten(),\n",
        "    'Predicted': predicted.flatten()\n",
        "})\n",
        "\n",
        "result_df['Giá thực tế'] = sc.inverse_transform(result_df[['Actual']])\n",
        "result_df['Giá dự đoán'] = sc.inverse_transform(result_df[['Predicted']])\n",
        "result_df['Chênh lệch'] = result_df['Giá thực tế'] - result_df['Giá dự đoán']\n",
        "result_df = result_df.drop(columns=['Actual', 'Predicted'])\n",
        "\n",
        "print(\"Bảng so sánh giá trị thực tế và dự đoán (Đơn vị: nghìn đồng):\")\n",
        "print(result_df.head(16))"
      ]
    }
  ],
  "metadata": {
    "colab": {
      "collapsed_sections": [
        "t6dDt5RLjk04",
        "j6V-ZY2lm4-v",
        "tXIK5UlMn8oe"
      ],
      "provenance": []
    },
    "kernelspec": {
      "display_name": "Python 3",
      "name": "python3"
    },
    "language_info": {
      "codemirror_mode": {
        "name": "ipython",
        "version": 3
      },
      "file_extension": ".py",
      "mimetype": "text/x-python",
      "name": "python",
      "nbconvert_exporter": "python",
      "pygments_lexer": "ipython3",
      "version": "3.10.0"
    }
  },
  "nbformat": 4,
  "nbformat_minor": 0
}