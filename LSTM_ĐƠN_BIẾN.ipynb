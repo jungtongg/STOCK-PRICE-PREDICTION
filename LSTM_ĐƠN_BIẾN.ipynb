{
  "cells": [
    {
      "cell_type": "markdown",
      "metadata": {
        "id": "xgjmLt7mE54O"
      },
      "source": [
        "# **DỰ BÁO GIÁ CHỨNG KHOÁN**\n",
        "\n",
        "Đoạn mã dưới đây bao gồm các bước sử dụng mô hình LSTM đơn biến để dự báo giá chứng khoán của Công ty Cổ phần Viễn thông FPT:\n",
        "\n",
        "1. Thu thập dữ liệu từ thư viện vnstock và tiến hành tiền xử lý dữ liệu.\n",
        "\n",
        "2. Chuẩn bị dữ liệu huấn luyện.\n",
        "\n",
        "3. Xây dựng mô hình LSTM.\n",
        "\n",
        "4. Tối ưu hóa tham số mô hình bằng phương pháp Bayesian.\n",
        "\n",
        "5. Huấn luyện mô hình với tham số tối ưu.\n",
        "\n",
        "6. Đánh giá mô hình qua các chỉ số đánh giá MSE, RMSE, MAPE, R².\n",
        "\n",
        "7. Đánh giá kết quả thông qua biểu đồ trực quan."
      ]
    },
    {
      "cell_type": "markdown",
      "metadata": {
        "id": "qI6JDp7wEh1C"
      },
      "source": [
        "#CHUẨN BỊ CÁC THƯ VIỆN"
      ]
    },
    {
      "cell_type": "code",
      "execution_count": null,
      "metadata": {
        "colab": {
          "base_uri": "https://localhost:8080/"
        },
        "id": "rESUHWvxHZDn",
        "outputId": "54b7df59-dda0-4a5f-a857-9d93a7d3cdc9",
        "collapsed": true
      },
      "outputs": [
        {
          "output_type": "stream",
          "name": "stdout",
          "text": [
            "Requirement already satisfied: vnstock in /usr/local/lib/python3.10/dist-packages (3.1.0.1)\n",
            "Requirement already satisfied: requests in /usr/local/lib/python3.10/dist-packages (from vnstock) (2.32.3)\n",
            "Requirement already satisfied: beautifulsoup4 in /usr/local/lib/python3.10/dist-packages (from vnstock) (4.12.3)\n",
            "Requirement already satisfied: pandas in /usr/local/lib/python3.10/dist-packages (from vnstock) (2.2.2)\n",
            "Requirement already satisfied: vnai>=0.1.3 in /usr/local/lib/python3.10/dist-packages (from vnstock) (0.1.4)\n",
            "Requirement already satisfied: openpyxl in /usr/local/lib/python3.10/dist-packages (from vnstock) (3.1.5)\n",
            "Requirement already satisfied: pydantic in /usr/local/lib/python3.10/dist-packages (from vnstock) (2.10.3)\n",
            "Requirement already satisfied: psutil in /usr/local/lib/python3.10/dist-packages (from vnstock) (5.9.5)\n",
            "Requirement already satisfied: fake_useragent in /usr/local/lib/python3.10/dist-packages (from vnstock) (2.0.3)\n",
            "Requirement already satisfied: vnstock_ezchart in /usr/local/lib/python3.10/dist-packages (from vnstock) (0.0.2)\n",
            "Requirement already satisfied: click in /usr/local/lib/python3.10/dist-packages (from vnstock) (8.1.7)\n",
            "Requirement already satisfied: seaborn in /usr/local/lib/python3.10/dist-packages (from vnstock) (0.13.2)\n",
            "Requirement already satisfied: cryptography in /usr/local/lib/python3.10/dist-packages (from vnai>=0.1.3->vnstock) (43.0.3)\n",
            "Requirement already satisfied: soupsieve>1.2 in /usr/local/lib/python3.10/dist-packages (from beautifulsoup4->vnstock) (2.6)\n",
            "Requirement already satisfied: et-xmlfile in /usr/local/lib/python3.10/dist-packages (from openpyxl->vnstock) (2.0.0)\n",
            "Requirement already satisfied: numpy>=1.22.4 in /usr/local/lib/python3.10/dist-packages (from pandas->vnstock) (1.26.4)\n",
            "Requirement already satisfied: python-dateutil>=2.8.2 in /usr/local/lib/python3.10/dist-packages (from pandas->vnstock) (2.8.2)\n",
            "Requirement already satisfied: pytz>=2020.1 in /usr/local/lib/python3.10/dist-packages (from pandas->vnstock) (2024.2)\n",
            "Requirement already satisfied: tzdata>=2022.7 in /usr/local/lib/python3.10/dist-packages (from pandas->vnstock) (2024.2)\n",
            "Requirement already satisfied: annotated-types>=0.6.0 in /usr/local/lib/python3.10/dist-packages (from pydantic->vnstock) (0.7.0)\n",
            "Requirement already satisfied: pydantic-core==2.27.1 in /usr/local/lib/python3.10/dist-packages (from pydantic->vnstock) (2.27.1)\n",
            "Requirement already satisfied: typing-extensions>=4.12.2 in /usr/local/lib/python3.10/dist-packages (from pydantic->vnstock) (4.12.2)\n",
            "Requirement already satisfied: charset-normalizer<4,>=2 in /usr/local/lib/python3.10/dist-packages (from requests->vnstock) (3.4.0)\n",
            "Requirement already satisfied: idna<4,>=2.5 in /usr/local/lib/python3.10/dist-packages (from requests->vnstock) (3.10)\n",
            "Requirement already satisfied: urllib3<3,>=1.21.1 in /usr/local/lib/python3.10/dist-packages (from requests->vnstock) (2.2.3)\n",
            "Requirement already satisfied: certifi>=2017.4.17 in /usr/local/lib/python3.10/dist-packages (from requests->vnstock) (2024.12.14)\n",
            "Requirement already satisfied: matplotlib!=3.6.1,>=3.4 in /usr/local/lib/python3.10/dist-packages (from seaborn->vnstock) (3.8.0)\n",
            "Requirement already satisfied: squarify in /usr/local/lib/python3.10/dist-packages (from vnstock_ezchart->vnstock) (0.4.4)\n",
            "Requirement already satisfied: wordcloud in /usr/local/lib/python3.10/dist-packages (from vnstock_ezchart->vnstock) (1.9.4)\n",
            "Requirement already satisfied: contourpy>=1.0.1 in /usr/local/lib/python3.10/dist-packages (from matplotlib!=3.6.1,>=3.4->seaborn->vnstock) (1.3.1)\n",
            "Requirement already satisfied: cycler>=0.10 in /usr/local/lib/python3.10/dist-packages (from matplotlib!=3.6.1,>=3.4->seaborn->vnstock) (0.12.1)\n",
            "Requirement already satisfied: fonttools>=4.22.0 in /usr/local/lib/python3.10/dist-packages (from matplotlib!=3.6.1,>=3.4->seaborn->vnstock) (4.55.3)\n",
            "Requirement already satisfied: kiwisolver>=1.0.1 in /usr/local/lib/python3.10/dist-packages (from matplotlib!=3.6.1,>=3.4->seaborn->vnstock) (1.4.7)\n",
            "Requirement already satisfied: packaging>=20.0 in /usr/local/lib/python3.10/dist-packages (from matplotlib!=3.6.1,>=3.4->seaborn->vnstock) (24.2)\n",
            "Requirement already satisfied: pillow>=6.2.0 in /usr/local/lib/python3.10/dist-packages (from matplotlib!=3.6.1,>=3.4->seaborn->vnstock) (11.0.0)\n",
            "Requirement already satisfied: pyparsing>=2.3.1 in /usr/local/lib/python3.10/dist-packages (from matplotlib!=3.6.1,>=3.4->seaborn->vnstock) (3.2.0)\n",
            "Requirement already satisfied: six>=1.5 in /usr/local/lib/python3.10/dist-packages (from python-dateutil>=2.8.2->pandas->vnstock) (1.17.0)\n",
            "Requirement already satisfied: cffi>=1.12 in /usr/local/lib/python3.10/dist-packages (from cryptography->vnai>=0.1.3->vnstock) (1.17.1)\n",
            "Requirement already satisfied: pycparser in /usr/local/lib/python3.10/dist-packages (from cffi>=1.12->cryptography->vnai>=0.1.3->vnstock) (2.22)\n",
            "Requirement already satisfied: vnstock3 in /usr/local/lib/python3.10/dist-packages (3.1.0)\n",
            "Requirement already satisfied: requests in /usr/local/lib/python3.10/dist-packages (from vnstock3) (2.32.3)\n",
            "Requirement already satisfied: beautifulsoup4 in /usr/local/lib/python3.10/dist-packages (from vnstock3) (4.12.3)\n",
            "Requirement already satisfied: pandas in /usr/local/lib/python3.10/dist-packages (from vnstock3) (2.2.2)\n",
            "Requirement already satisfied: vnai>=0.1.3 in /usr/local/lib/python3.10/dist-packages (from vnstock3) (0.1.4)\n",
            "Requirement already satisfied: openpyxl in /usr/local/lib/python3.10/dist-packages (from vnstock3) (3.1.5)\n",
            "Requirement already satisfied: pydantic in /usr/local/lib/python3.10/dist-packages (from vnstock3) (2.10.3)\n",
            "Requirement already satisfied: psutil in /usr/local/lib/python3.10/dist-packages (from vnstock3) (5.9.5)\n",
            "Requirement already satisfied: fake-useragent in /usr/local/lib/python3.10/dist-packages (from vnstock3) (2.0.3)\n",
            "Requirement already satisfied: vnstock-ezchart in /usr/local/lib/python3.10/dist-packages (from vnstock3) (0.0.2)\n",
            "Requirement already satisfied: click in /usr/local/lib/python3.10/dist-packages (from vnstock3) (8.1.7)\n",
            "Requirement already satisfied: seaborn in /usr/local/lib/python3.10/dist-packages (from vnstock3) (0.13.2)\n",
            "Requirement already satisfied: cryptography in /usr/local/lib/python3.10/dist-packages (from vnai>=0.1.3->vnstock3) (43.0.3)\n",
            "Requirement already satisfied: soupsieve>1.2 in /usr/local/lib/python3.10/dist-packages (from beautifulsoup4->vnstock3) (2.6)\n",
            "Requirement already satisfied: et-xmlfile in /usr/local/lib/python3.10/dist-packages (from openpyxl->vnstock3) (2.0.0)\n",
            "Requirement already satisfied: numpy>=1.22.4 in /usr/local/lib/python3.10/dist-packages (from pandas->vnstock3) (1.26.4)\n",
            "Requirement already satisfied: python-dateutil>=2.8.2 in /usr/local/lib/python3.10/dist-packages (from pandas->vnstock3) (2.8.2)\n",
            "Requirement already satisfied: pytz>=2020.1 in /usr/local/lib/python3.10/dist-packages (from pandas->vnstock3) (2024.2)\n",
            "Requirement already satisfied: tzdata>=2022.7 in /usr/local/lib/python3.10/dist-packages (from pandas->vnstock3) (2024.2)\n",
            "Requirement already satisfied: annotated-types>=0.6.0 in /usr/local/lib/python3.10/dist-packages (from pydantic->vnstock3) (0.7.0)\n",
            "Requirement already satisfied: pydantic-core==2.27.1 in /usr/local/lib/python3.10/dist-packages (from pydantic->vnstock3) (2.27.1)\n",
            "Requirement already satisfied: typing-extensions>=4.12.2 in /usr/local/lib/python3.10/dist-packages (from pydantic->vnstock3) (4.12.2)\n",
            "Requirement already satisfied: charset-normalizer<4,>=2 in /usr/local/lib/python3.10/dist-packages (from requests->vnstock3) (3.4.0)\n",
            "Requirement already satisfied: idna<4,>=2.5 in /usr/local/lib/python3.10/dist-packages (from requests->vnstock3) (3.10)\n",
            "Requirement already satisfied: urllib3<3,>=1.21.1 in /usr/local/lib/python3.10/dist-packages (from requests->vnstock3) (2.2.3)\n",
            "Requirement already satisfied: certifi>=2017.4.17 in /usr/local/lib/python3.10/dist-packages (from requests->vnstock3) (2024.12.14)\n",
            "Requirement already satisfied: matplotlib!=3.6.1,>=3.4 in /usr/local/lib/python3.10/dist-packages (from seaborn->vnstock3) (3.8.0)\n",
            "Requirement already satisfied: squarify in /usr/local/lib/python3.10/dist-packages (from vnstock-ezchart->vnstock3) (0.4.4)\n",
            "Requirement already satisfied: wordcloud in /usr/local/lib/python3.10/dist-packages (from vnstock-ezchart->vnstock3) (1.9.4)\n",
            "Requirement already satisfied: vnstock in /usr/local/lib/python3.10/dist-packages (from vnstock-ezchart->vnstock3) (3.1.0.1)\n",
            "Requirement already satisfied: contourpy>=1.0.1 in /usr/local/lib/python3.10/dist-packages (from matplotlib!=3.6.1,>=3.4->seaborn->vnstock3) (1.3.1)\n",
            "Requirement already satisfied: cycler>=0.10 in /usr/local/lib/python3.10/dist-packages (from matplotlib!=3.6.1,>=3.4->seaborn->vnstock3) (0.12.1)\n",
            "Requirement already satisfied: fonttools>=4.22.0 in /usr/local/lib/python3.10/dist-packages (from matplotlib!=3.6.1,>=3.4->seaborn->vnstock3) (4.55.3)\n",
            "Requirement already satisfied: kiwisolver>=1.0.1 in /usr/local/lib/python3.10/dist-packages (from matplotlib!=3.6.1,>=3.4->seaborn->vnstock3) (1.4.7)\n",
            "Requirement already satisfied: packaging>=20.0 in /usr/local/lib/python3.10/dist-packages (from matplotlib!=3.6.1,>=3.4->seaborn->vnstock3) (24.2)\n",
            "Requirement already satisfied: pillow>=6.2.0 in /usr/local/lib/python3.10/dist-packages (from matplotlib!=3.6.1,>=3.4->seaborn->vnstock3) (11.0.0)\n",
            "Requirement already satisfied: pyparsing>=2.3.1 in /usr/local/lib/python3.10/dist-packages (from matplotlib!=3.6.1,>=3.4->seaborn->vnstock3) (3.2.0)\n",
            "Requirement already satisfied: six>=1.5 in /usr/local/lib/python3.10/dist-packages (from python-dateutil>=2.8.2->pandas->vnstock3) (1.17.0)\n",
            "Requirement already satisfied: cffi>=1.12 in /usr/local/lib/python3.10/dist-packages (from cryptography->vnai>=0.1.3->vnstock3) (1.17.1)\n",
            "Requirement already satisfied: pycparser in /usr/local/lib/python3.10/dist-packages (from cffi>=1.12->cryptography->vnai>=0.1.3->vnstock3) (2.22)\n",
            "Requirement already satisfied: optuna in /usr/local/lib/python3.10/dist-packages (4.1.0)\n",
            "Requirement already satisfied: alembic>=1.5.0 in /usr/local/lib/python3.10/dist-packages (from optuna) (1.14.0)\n",
            "Requirement already satisfied: colorlog in /usr/local/lib/python3.10/dist-packages (from optuna) (6.9.0)\n",
            "Requirement already satisfied: numpy in /usr/local/lib/python3.10/dist-packages (from optuna) (1.26.4)\n",
            "Requirement already satisfied: packaging>=20.0 in /usr/local/lib/python3.10/dist-packages (from optuna) (24.2)\n",
            "Requirement already satisfied: sqlalchemy>=1.4.2 in /usr/local/lib/python3.10/dist-packages (from optuna) (2.0.36)\n",
            "Requirement already satisfied: tqdm in /usr/local/lib/python3.10/dist-packages (from optuna) (4.67.1)\n",
            "Requirement already satisfied: PyYAML in /usr/local/lib/python3.10/dist-packages (from optuna) (6.0.2)\n",
            "Requirement already satisfied: Mako in /usr/local/lib/python3.10/dist-packages (from alembic>=1.5.0->optuna) (1.3.8)\n",
            "Requirement already satisfied: typing-extensions>=4 in /usr/local/lib/python3.10/dist-packages (from alembic>=1.5.0->optuna) (4.12.2)\n",
            "Requirement already satisfied: greenlet!=0.4.17 in /usr/local/lib/python3.10/dist-packages (from sqlalchemy>=1.4.2->optuna) (3.1.1)\n",
            "Requirement already satisfied: MarkupSafe>=0.9.2 in /usr/local/lib/python3.10/dist-packages (from Mako->alembic>=1.5.0->optuna) (3.0.2)\n"
          ]
        }
      ],
      "source": [
        "!pip install vnstock\n",
        "!pip install vnstock3 --upgrade\n",
        "!pip install optuna"
      ]
    },
    {
      "cell_type": "code",
      "execution_count": null,
      "metadata": {
        "collapsed": true,
        "id": "mNb71Ix5iaPP"
      },
      "outputs": [],
      "source": [
        "import numpy as np\n",
        "import pandas as pd\n",
        "import sys\n",
        "import optuna\n",
        "import seaborn as sns\n",
        "np.random.seed(1)\n",
        "import datetime as dt\n",
        "import time\n",
        "import tensorflow as tf\n",
        "tf.random.set_seed(2)\n",
        "from tensorflow.keras.models import Sequential, load_model\n",
        "from tensorflow.keras.layers import Dense, LSTM\n",
        "from tensorflow.keras import optimizers\n",
        "from tensorflow.keras.callbacks import EarlyStopping\n",
        "from sklearn.preprocessing import MinMaxScaler\n",
        "from sklearn.metrics import mean_squared_error,mean_absolute_percentage_error, r2_score\n",
        "from math import sqrt\n",
        "import matplotlib.pyplot as plt\n",
        "plt.style.use('ggplot')\n",
        "# Lấy dữ liệu từ thư viện vnstock\n",
        "from vnstock import Quote"
      ]
    },
    {
      "cell_type": "markdown",
      "metadata": {
        "id": "t6dDt5RLjk04"
      },
      "source": [
        "#TIỀN XỬ LÝ DỮ LIỆU"
      ]
    },
    {
      "cell_type": "markdown",
      "metadata": {
        "id": "agDgNmptipwJ"
      },
      "source": [
        "Lấy dữ liệu"
      ]
    },
    {
      "cell_type": "code",
      "source": [
        "# Lấy dữ liệu giá cổ phiếu FPT từ vnstock\n",
        "quote = Quote(symbol=\"FPT\", source=\"VCI\")\n",
        "start_date = \"2019-11-20\"\n",
        "end_date = \"2024-11-20\"\n",
        "data = quote.history(start=start_date, end=end_date)\n",
        "\n",
        "df = pd.DataFrame(data)\n",
        "print(data)\n"
      ],
      "metadata": {
        "colab": {
          "base_uri": "https://localhost:8080/"
        },
        "id": "M-vQg_gSDvKv",
        "outputId": "0e204797-34da-4197-a588-203374ddcb2d"
      },
      "execution_count": null,
      "outputs": [
        {
          "output_type": "stream",
          "name": "stdout",
          "text": [
            "           time    open    high     low   close   volume\n",
            "0    2019-11-20   24.64   24.64   23.96   24.05  2291760\n",
            "1    2019-11-21   24.05   24.18   23.67   23.71  3303950\n",
            "2    2019-11-22   23.84   24.18   23.50   23.71  1625820\n",
            "3    2019-11-25   23.75   24.13   23.62   23.96  1087990\n",
            "4    2019-11-26   24.13   24.22   24.05   24.18   968690\n",
            "...         ...     ...     ...     ...     ...      ...\n",
            "1247 2024-11-15  134.37  134.76  131.69  132.98  6574421\n",
            "1248 2024-11-18  133.08  133.67  131.59  133.08  3910975\n",
            "1249 2024-11-19  132.58  132.68  129.00  129.10  7652727\n",
            "1250 2024-11-20  129.10  131.49  125.83  131.49  8474055\n",
            "1251 2024-11-21  131.49  132.08  130.10  132.08  3183165\n",
            "\n",
            "[1252 rows x 6 columns]\n"
          ]
        }
      ]
    },
    {
      "cell_type": "markdown",
      "metadata": {
        "id": "sIihyvXdbF5b"
      },
      "source": [
        "Xử lý dữ liệu"
      ]
    },
    {
      "cell_type": "code",
      "execution_count": null,
      "metadata": {
        "id": "AqJHY0JQHynL"
      },
      "outputs": [],
      "source": [
        "# Chuyển đổi dữ liệu về dạng DataFrame và xử lý\n",
        "if df is not None:\n",
        "    df = pd.DataFrame(df)\n",
        "    df.set_index('time', inplace=True)\n",
        "    df.index = pd.to_datetime(df.index)\n",
        "    df.sort_index(inplace=True)\n",
        "else:\n",
        "    raise ValueError(\"Không thể lấy dữ liệu từ vnstock. Vui lòng kiểm tra kết nối hoặc mã cổ phiếu.\")\n",
        "\n",
        "# Loại bỏ các hàng có volume = 0\n",
        "df.drop(df[df['volume'] == 0].index, inplace=True)"
      ]
    },
    {
      "cell_type": "code",
      "execution_count": null,
      "metadata": {
        "id": "jTN_kGBqkT0I"
      },
      "outputs": [],
      "source": [
        "# Chọn biến huấn luyện\n",
        "series = df['close']\n",
        "\n",
        "# Chia dữ liệu thành các tập Train, Validation và Test\n",
        "train_data = series.loc[\"2019-11-20\":\"2022-11-20\"].values.reshape(-1, 1)\n",
        "val_data = series.loc[\"2022-11-21\":\"2023-11-20\"].values.reshape(-1, 1)\n",
        "test_data = series.loc[\"2023-11-21\":\"2024-11-20\"].values.reshape(-1, 1)\n",
        "\n",
        "# Chuẩn hoá dữ liệu\n",
        "sc = MinMaxScaler()\n",
        "train = sc.fit_transform(train_data)\n",
        "val = sc.transform(val_data)\n",
        "test = sc.transform(test_data)"
      ]
    },
    {
      "cell_type": "markdown",
      "metadata": {
        "id": "j6V-ZY2lm4-v"
      },
      "source": [
        "#XÂY DỰNG MÔ HÌNH"
      ]
    },
    {
      "cell_type": "markdown",
      "metadata": {
        "id": "qZnBWBVEllHr"
      },
      "source": [
        "Xây dựng và huấn luyện mô hình trên tập train và validation"
      ]
    },
    {
      "cell_type": "code",
      "execution_count": null,
      "metadata": {
        "id": "yarvNVZzm7b6"
      },
      "outputs": [],
      "source": [
        "earlystop = EarlyStopping(monitor='val_loss', min_delta=0.0001, patience=80, verbose=1, mode='min')\n",
        "callbacks_list = [earlystop]\n",
        "\n",
        "def fit_model(train, val, timesteps, hl, lr, batch, epochs):\n",
        "    X_train, Y_train, X_val, Y_val = [], [], [], []\n",
        "\n",
        "    # Chuẩn bị dữ liệu train\n",
        "    for i in range(timesteps, train.shape[0]):\n",
        "        X_train.append(train[i-timesteps:i])\n",
        "        Y_train.append(train[i])\n",
        "    X_train, Y_train = np.array(X_train), np.array(Y_train)\n",
        "\n",
        "    # Chuẩn bị dữ liệu validation\n",
        "    for i in range(timesteps, val.shape[0]):\n",
        "        X_val.append(val[i-timesteps:i])\n",
        "        Y_val.append(val[i])\n",
        "    X_val, Y_val = np.array(X_val), np.array(Y_val)\n",
        "\n",
        "    # Xây dựng mô hình\n",
        "    model = Sequential()\n",
        "    model.add(LSTM(hl[0], input_shape=(X_train.shape[1], 1), activation='relu', return_sequences=True))\n",
        "    for i in range(1, len(hl) - 1):\n",
        "        model.add(LSTM(hl[i], activation='relu', return_sequences=True))\n",
        "    model.add(LSTM(hl[-1], activation='relu'))\n",
        "    model.add(Dense(1))\n",
        "    model.compile(optimizer=optimizers.Adam(learning_rate=lr), loss='mean_squared_error')\n",
        "\n",
        "    # Huấn luyện mô hình\n",
        "    history = model.fit(X_train, Y_train, epochs=epochs, batch_size=batch, validation_data=(X_val, Y_val), verbose=0, shuffle=False)\n",
        "    return model, history.history['loss'], history.history['val_loss']"
      ]
    },
    {
      "cell_type": "markdown",
      "source": [
        "Đánh giá và dự đoán trên tập test"
      ],
      "metadata": {
        "id": "0XTFy9bWqVoo"
      }
    },
    {
      "cell_type": "code",
      "execution_count": null,
      "metadata": {
        "id": "AcywsMGNn-Ec"
      },
      "outputs": [],
      "source": [
        "def evaluate_model(model, test, timesteps):\n",
        "    X_test = []\n",
        "    Y_test = []\n",
        "\n",
        "    # Chuẩn bị dữ liệu test\n",
        "    for i in range(timesteps, test.shape[0]):\n",
        "        X_test.append(test[i-timesteps:i])\n",
        "        Y_test.append(test[i])\n",
        "    X_test, Y_test = np.array(X_test), np.array(Y_test)\n",
        "\n",
        "    # Dự đoán\n",
        "    Y_hat = model.predict(X_test)\n",
        "    mse = mean_squared_error(Y_test, Y_hat)\n",
        "    rmse = sqrt(mse)\n",
        "    mape = mean_absolute_percentage_error(Y_test, Y_hat)\n",
        "    r2 = r2_score(Y_test, Y_hat)\n",
        "    return mse, rmse, mape, r2, Y_test, Y_hat"
      ]
    },
    {
      "cell_type": "markdown",
      "metadata": {
        "id": "dAJnFbV7lpTd"
      },
      "source": [
        "Tối ưu hoá các tham số"
      ]
    },
    {
      "cell_type": "code",
      "source": [
        "# Hàm mục tiêu để tối ưu hoá các tham số với Bayesian Optimization\n",
        "def objective(trial):\n",
        "    timesteps = trial.suggest_int('timesteps', 20, 60, step=10)\n",
        "    hl = [trial.suggest_int(f'hl_{i}', 20, 50, step=5) for i in range(2)]\n",
        "    lr = trial.suggest_loguniform('lr', 1e-4, 1e-2)\n",
        "    batch_size = trial.suggest_categorical('batch_size', [16, 32, 64, 128])\n",
        "    num_epochs = trial.suggest_int('num_epochs', 50, 300, step=50)\n",
        "\n",
        "    model, train_loss, val_loss = fit_model(train, val, timesteps, hl, lr, batch_size, num_epochs)\n",
        "\n",
        "    mse, rmse, mape, r2, _, _ = evaluate_model(model, test, timesteps)\n",
        "    return mse\n",
        "\n",
        "study = optuna.create_study(direction='minimize')\n",
        "study.optimize(objective, n_trials=50)\n",
        "\n",
        "print(\"Best params:\", study.best_params)\n"
      ],
      "metadata": {
        "colab": {
          "base_uri": "https://localhost:8080/"
        },
        "id": "BZSKnzUEHoL_",
        "outputId": "50cd8e15-02a9-4e3a-cac7-3800fe8b2449"
      },
      "execution_count": null,
      "outputs": [
        {
          "metadata": {
            "tags": null
          },
          "name": "stderr",
          "output_type": "stream",
          "text": [
            "[I 2025-01-03 16:41:24,362] A new study created in memory with name: no-name-67521fe2-6e12-4f1e-85fb-6fa3791738e2\n",
            "suggest_loguniform has been deprecated in v3.0.0. This feature will be removed in v6.0.0. See https://github.com/optuna/optuna/releases/tag/v3.0.0. Use suggest_float(..., log=True) instead.\n",
            "Do not pass an `input_shape`/`input_dim` argument to a layer. When using Sequential models, prefer using an `Input(shape)` object as the first layer in the model instead.\n"
          ]
        },
        {
          "metadata": {
            "tags": null
          },
          "name": "stdout",
          "output_type": "stream",
          "text": [
            "\u001b[1m6/6\u001b[0m \u001b[32m━━━━━━━━━━━━━━━━━━━━\u001b[0m\u001b[37m\u001b[0m \u001b[1m1s\u001b[0m 66ms/step\n"
          ]
        },
        {
          "metadata": {
            "tags": null
          },
          "name": "stderr",
          "output_type": "stream",
          "text": [
            "[I 2025-01-03 16:46:10,262] Trial 0 finished with value: 2024.6966454922187 and parameters: {'timesteps': 60, 'hl_0': 50, 'hl_1': 45, 'lr': 0.00017688357683282567, 'batch_size': 16, 'num_epochs': 100}. Best is trial 0 with value: 2024.6966454922187.\n",
            "suggest_loguniform has been deprecated in v3.0.0. This feature will be removed in v6.0.0. See https://github.com/optuna/optuna/releases/tag/v3.0.0. Use suggest_float(..., log=True) instead.\n",
            "Do not pass an `input_shape`/`input_dim` argument to a layer. When using Sequential models, prefer using an `Input(shape)` object as the first layer in the model instead.\n"
          ]
        },
        {
          "metadata": {
            "tags": null
          },
          "name": "stdout",
          "output_type": "stream",
          "text": [
            "\u001b[1m7/7\u001b[0m \u001b[32m━━━━━━━━━━━━━━━━━━━━\u001b[0m\u001b[37m\u001b[0m \u001b[1m1s\u001b[0m 74ms/step\n"
          ]
        },
        {
          "metadata": {
            "tags": null
          },
          "name": "stderr",
          "output_type": "stream",
          "text": [
            "[I 2025-01-03 16:49:09,917] Trial 1 finished with value: 0.16230034899525192 and parameters: {'timesteps': 40, 'hl_0': 20, 'hl_1': 25, 'lr': 0.0031330242393836434, 'batch_size': 64, 'num_epochs': 300}. Best is trial 1 with value: 0.16230034899525192.\n",
            "suggest_loguniform has been deprecated in v3.0.0. This feature will be removed in v6.0.0. See https://github.com/optuna/optuna/releases/tag/v3.0.0. Use suggest_float(..., log=True) instead.\n",
            "Do not pass an `input_shape`/`input_dim` argument to a layer. When using Sequential models, prefer using an `Input(shape)` object as the first layer in the model instead.\n",
            "WARNING:tensorflow:5 out of the last 14 calls to <function TensorFlowTrainer.make_predict_function.<locals>.one_step_on_data_distributed at 0x7a4692ea9900> triggered tf.function retracing. Tracing is expensive and the excessive number of tracings could be due to (1) creating @tf.function repeatedly in a loop, (2) passing tensors with different shapes, (3) passing Python objects instead of tensors. For (1), please define your @tf.function outside of the loop. For (2), @tf.function has reduce_retracing=True option that can avoid unnecessary retracing. For (3), please refer to https://www.tensorflow.org/guide/function#controlling_retracing and https://www.tensorflow.org/api_docs/python/tf/function for  more details.\n"
          ]
        },
        {
          "metadata": {
            "tags": null
          },
          "name": "stdout",
          "output_type": "stream",
          "text": [
            "\u001b[1m7/7\u001b[0m \u001b[32m━━━━━━━━━━━━━━━━━━━━\u001b[0m\u001b[37m\u001b[0m \u001b[1m1s\u001b[0m 54ms/step\n"
          ]
        },
        {
          "metadata": {
            "tags": null
          },
          "name": "stderr",
          "output_type": "stream",
          "text": [
            "[I 2025-01-03 16:54:27,481] Trial 2 finished with value: 0.5707728398814051 and parameters: {'timesteps': 50, 'hl_0': 30, 'hl_1': 30, 'lr': 0.00022973969559173665, 'batch_size': 16, 'num_epochs': 150}. Best is trial 1 with value: 0.16230034899525192.\n",
            "suggest_loguniform has been deprecated in v3.0.0. This feature will be removed in v6.0.0. See https://github.com/optuna/optuna/releases/tag/v3.0.0. Use suggest_float(..., log=True) instead.\n",
            "Do not pass an `input_shape`/`input_dim` argument to a layer. When using Sequential models, prefer using an `Input(shape)` object as the first layer in the model instead.\n",
            "WARNING:tensorflow:5 out of the last 15 calls to <function TensorFlowTrainer.make_predict_function.<locals>.one_step_on_data_distributed at 0x7a468db0d1b0> triggered tf.function retracing. Tracing is expensive and the excessive number of tracings could be due to (1) creating @tf.function repeatedly in a loop, (2) passing tensors with different shapes, (3) passing Python objects instead of tensors. For (1), please define your @tf.function outside of the loop. For (2), @tf.function has reduce_retracing=True option that can avoid unnecessary retracing. For (3), please refer to https://www.tensorflow.org/guide/function#controlling_retracing and https://www.tensorflow.org/api_docs/python/tf/function for  more details.\n"
          ]
        },
        {
          "metadata": {
            "tags": null
          },
          "name": "stdout",
          "output_type": "stream",
          "text": [
            "\u001b[1m7/7\u001b[0m \u001b[32m━━━━━━━━━━━━━━━━━━━━\u001b[0m\u001b[37m\u001b[0m \u001b[1m1s\u001b[0m 53ms/step\n"
          ]
        },
        {
          "metadata": {
            "tags": null
          },
          "name": "stderr",
          "output_type": "stream",
          "text": [
            "[I 2025-01-03 16:55:25,447] Trial 3 finished with value: 0.057779990073404515 and parameters: {'timesteps': 40, 'hl_0': 35, 'hl_1': 30, 'lr': 0.0005519828769944935, 'batch_size': 32, 'num_epochs': 50}. Best is trial 3 with value: 0.057779990073404515.\n",
            "suggest_loguniform has been deprecated in v3.0.0. This feature will be removed in v6.0.0. See https://github.com/optuna/optuna/releases/tag/v3.0.0. Use suggest_float(..., log=True) instead.\n",
            "Do not pass an `input_shape`/`input_dim` argument to a layer. When using Sequential models, prefer using an `Input(shape)` object as the first layer in the model instead.\n"
          ]
        },
        {
          "metadata": {
            "tags": null
          },
          "name": "stdout",
          "output_type": "stream",
          "text": [
            "\u001b[1m8/8\u001b[0m \u001b[32m━━━━━━━━━━━━━━━━━━━━\u001b[0m\u001b[37m\u001b[0m \u001b[1m1s\u001b[0m 43ms/step\n"
          ]
        },
        {
          "metadata": {
            "tags": null
          },
          "name": "stderr",
          "output_type": "stream",
          "text": [
            "[I 2025-01-03 16:57:00,812] Trial 4 finished with value: 1.370052202246479 and parameters: {'timesteps': 20, 'hl_0': 45, 'hl_1': 50, 'lr': 0.0005746396596235907, 'batch_size': 128, 'num_epochs': 300}. Best is trial 3 with value: 0.057779990073404515.\n",
            "suggest_loguniform has been deprecated in v3.0.0. This feature will be removed in v6.0.0. See https://github.com/optuna/optuna/releases/tag/v3.0.0. Use suggest_float(..., log=True) instead.\n",
            "Do not pass an `input_shape`/`input_dim` argument to a layer. When using Sequential models, prefer using an `Input(shape)` object as the first layer in the model instead.\n"
          ]
        },
        {
          "metadata": {
            "tags": null
          },
          "name": "stdout",
          "output_type": "stream",
          "text": [
            "\u001b[1m6/6\u001b[0m \u001b[32m━━━━━━━━━━━━━━━━━━━━\u001b[0m\u001b[37m\u001b[0m \u001b[1m1s\u001b[0m 89ms/step\n"
          ]
        },
        {
          "metadata": {
            "tags": null
          },
          "name": "stderr",
          "output_type": "stream",
          "text": [
            "[I 2025-01-03 17:00:17,771] Trial 5 finished with value: 746.190529989329 and parameters: {'timesteps': 60, 'hl_0': 25, 'hl_1': 20, 'lr': 0.0008749203714091197, 'batch_size': 64, 'num_epochs': 300}. Best is trial 3 with value: 0.057779990073404515.\n",
            "suggest_loguniform has been deprecated in v3.0.0. This feature will be removed in v6.0.0. See https://github.com/optuna/optuna/releases/tag/v3.0.0. Use suggest_float(..., log=True) instead.\n",
            "Do not pass an `input_shape`/`input_dim` argument to a layer. When using Sequential models, prefer using an `Input(shape)` object as the first layer in the model instead.\n"
          ]
        },
        {
          "metadata": {
            "tags": null
          },
          "name": "stdout",
          "output_type": "stream",
          "text": [
            "\u001b[1m7/7\u001b[0m \u001b[32m━━━━━━━━━━━━━━━━━━━━\u001b[0m\u001b[37m\u001b[0m \u001b[1m1s\u001b[0m 51ms/step\n"
          ]
        },
        {
          "metadata": {
            "tags": null
          },
          "name": "stderr",
          "output_type": "stream",
          "text": [
            "[I 2025-01-03 17:02:10,052] Trial 6 finished with value: 9.453744800368007 and parameters: {'timesteps': 30, 'hl_0': 50, 'hl_1': 30, 'lr': 0.0003140093945402495, 'batch_size': 64, 'num_epochs': 200}. Best is trial 3 with value: 0.057779990073404515.\n",
            "suggest_loguniform has been deprecated in v3.0.0. This feature will be removed in v6.0.0. See https://github.com/optuna/optuna/releases/tag/v3.0.0. Use suggest_float(..., log=True) instead.\n",
            "Do not pass an `input_shape`/`input_dim` argument to a layer. When using Sequential models, prefer using an `Input(shape)` object as the first layer in the model instead.\n"
          ]
        },
        {
          "metadata": {
            "tags": null
          },
          "name": "stdout",
          "output_type": "stream",
          "text": [
            "\u001b[1m6/6\u001b[0m \u001b[32m━━━━━━━━━━━━━━━━━━━━\u001b[0m\u001b[37m\u001b[0m \u001b[1m1s\u001b[0m 63ms/step\n"
          ]
        },
        {
          "metadata": {
            "tags": null
          },
          "name": "stderr",
          "output_type": "stream",
          "text": [
            "[I 2025-01-03 17:05:59,726] Trial 7 finished with value: 13.528253385872178 and parameters: {'timesteps': 60, 'hl_0': 20, 'hl_1': 20, 'lr': 0.00591792902470528, 'batch_size': 16, 'num_epochs': 100}. Best is trial 3 with value: 0.057779990073404515.\n",
            "suggest_loguniform has been deprecated in v3.0.0. This feature will be removed in v6.0.0. See https://github.com/optuna/optuna/releases/tag/v3.0.0. Use suggest_float(..., log=True) instead.\n",
            "Do not pass an `input_shape`/`input_dim` argument to a layer. When using Sequential models, prefer using an `Input(shape)` object as the first layer in the model instead.\n"
          ]
        },
        {
          "metadata": {
            "tags": null
          },
          "name": "stdout",
          "output_type": "stream",
          "text": [
            "\u001b[1m7/7\u001b[0m \u001b[32m━━━━━━━━━━━━━━━━━━━━\u001b[0m\u001b[37m\u001b[0m \u001b[1m1s\u001b[0m 54ms/step\n"
          ]
        },
        {
          "metadata": {
            "tags": null
          },
          "name": "stderr",
          "output_type": "stream",
          "text": [
            "[I 2025-01-03 17:07:48,985] Trial 8 finished with value: 0.14941759395065904 and parameters: {'timesteps': 40, 'hl_0': 25, 'hl_1': 40, 'lr': 0.0028047317339779214, 'batch_size': 32, 'num_epochs': 100}. Best is trial 3 with value: 0.057779990073404515.\n",
            "suggest_loguniform has been deprecated in v3.0.0. This feature will be removed in v6.0.0. See https://github.com/optuna/optuna/releases/tag/v3.0.0. Use suggest_float(..., log=True) instead.\n",
            "Do not pass an `input_shape`/`input_dim` argument to a layer. When using Sequential models, prefer using an `Input(shape)` object as the first layer in the model instead.\n"
          ]
        },
        {
          "metadata": {
            "tags": null
          },
          "name": "stdout",
          "output_type": "stream",
          "text": [
            "\u001b[1m7/7\u001b[0m \u001b[32m━━━━━━━━━━━━━━━━━━━━\u001b[0m\u001b[37m\u001b[0m \u001b[1m1s\u001b[0m 52ms/step\n"
          ]
        },
        {
          "metadata": {
            "tags": null
          },
          "name": "stderr",
          "output_type": "stream",
          "text": [
            "[I 2025-01-03 17:12:40,443] Trial 9 finished with value: 0.8394468557381006 and parameters: {'timesteps': 40, 'hl_0': 30, 'hl_1': 20, 'lr': 0.008793431118177202, 'batch_size': 16, 'num_epochs': 200}. Best is trial 3 with value: 0.057779990073404515.\n",
            "suggest_loguniform has been deprecated in v3.0.0. This feature will be removed in v6.0.0. See https://github.com/optuna/optuna/releases/tag/v3.0.0. Use suggest_float(..., log=True) instead.\n",
            "Do not pass an `input_shape`/`input_dim` argument to a layer. When using Sequential models, prefer using an `Input(shape)` object as the first layer in the model instead.\n"
          ]
        },
        {
          "metadata": {
            "tags": null
          },
          "name": "stdout",
          "output_type": "stream",
          "text": [
            "\u001b[1m8/8\u001b[0m \u001b[32m━━━━━━━━━━━━━━━━━━━━\u001b[0m\u001b[37m\u001b[0m \u001b[1m1s\u001b[0m 42ms/step\n"
          ]
        },
        {
          "metadata": {
            "tags": null
          },
          "name": "stderr",
          "output_type": "stream",
          "text": [
            "[I 2025-01-03 17:13:15,473] Trial 10 finished with value: 0.4122371175791981 and parameters: {'timesteps': 20, 'hl_0': 40, 'hl_1': 35, 'lr': 0.00011530696723137564, 'batch_size': 32, 'num_epochs': 50}. Best is trial 3 with value: 0.057779990073404515.\n",
            "suggest_loguniform has been deprecated in v3.0.0. This feature will be removed in v6.0.0. See https://github.com/optuna/optuna/releases/tag/v3.0.0. Use suggest_float(..., log=True) instead.\n",
            "Do not pass an `input_shape`/`input_dim` argument to a layer. When using Sequential models, prefer using an `Input(shape)` object as the first layer in the model instead.\n"
          ]
        },
        {
          "metadata": {
            "tags": null
          },
          "name": "stdout",
          "output_type": "stream",
          "text": [
            "\u001b[1m7/7\u001b[0m \u001b[32m━━━━━━━━━━━━━━━━━━━━\u001b[0m\u001b[37m\u001b[0m \u001b[1m1s\u001b[0m 50ms/step\n"
          ]
        },
        {
          "metadata": {
            "tags": null
          },
          "name": "stderr",
          "output_type": "stream",
          "text": [
            "[I 2025-01-03 17:13:54,683] Trial 11 finished with value: 0.18277900242502607 and parameters: {'timesteps': 30, 'hl_0': 35, 'hl_1': 40, 'lr': 0.002038368983653225, 'batch_size': 32, 'num_epochs': 50}. Best is trial 3 with value: 0.057779990073404515.\n",
            "suggest_loguniform has been deprecated in v3.0.0. This feature will be removed in v6.0.0. See https://github.com/optuna/optuna/releases/tag/v3.0.0. Use suggest_float(..., log=True) instead.\n",
            "Do not pass an `input_shape`/`input_dim` argument to a layer. When using Sequential models, prefer using an `Input(shape)` object as the first layer in the model instead.\n"
          ]
        },
        {
          "output_type": "stream",
          "name": "stdout",
          "text": [
            "\u001b[1m7/7\u001b[0m \u001b[32m━━━━━━━━━━━━━━━━━━━━\u001b[0m\u001b[37m\u001b[0m \u001b[1m1s\u001b[0m 82ms/step\n"
          ]
        },
        {
          "output_type": "stream",
          "name": "stderr",
          "text": [
            "[I 2025-01-03 17:15:59,733] Trial 12 finished with value: 0.12845825942530545 and parameters: {'timesteps': 50, 'hl_0': 35, 'hl_1': 40, 'lr': 0.001510149975237556, 'batch_size': 32, 'num_epochs': 100}. Best is trial 3 with value: 0.057779990073404515.\n",
            "suggest_loguniform has been deprecated in v3.0.0. This feature will be removed in v6.0.0. See https://github.com/optuna/optuna/releases/tag/v3.0.0. Use suggest_float(..., log=True) instead.\n",
            "Do not pass an `input_shape`/`input_dim` argument to a layer. When using Sequential models, prefer using an `Input(shape)` object as the first layer in the model instead.\n"
          ]
        },
        {
          "output_type": "stream",
          "name": "stdout",
          "text": [
            "\u001b[1m7/7\u001b[0m \u001b[32m━━━━━━━━━━━━━━━━━━━━\u001b[0m\u001b[37m\u001b[0m \u001b[1m1s\u001b[0m 83ms/step\n"
          ]
        },
        {
          "output_type": "stream",
          "name": "stderr",
          "text": [
            "[I 2025-01-03 17:17:04,000] Trial 13 finished with value: 0.07899095077436588 and parameters: {'timesteps': 50, 'hl_0': 40, 'hl_1': 35, 'lr': 0.0012449391439904908, 'batch_size': 32, 'num_epochs': 50}. Best is trial 3 with value: 0.057779990073404515.\n",
            "suggest_loguniform has been deprecated in v3.0.0. This feature will be removed in v6.0.0. See https://github.com/optuna/optuna/releases/tag/v3.0.0. Use suggest_float(..., log=True) instead.\n",
            "Do not pass an `input_shape`/`input_dim` argument to a layer. When using Sequential models, prefer using an `Input(shape)` object as the first layer in the model instead.\n"
          ]
        },
        {
          "output_type": "stream",
          "name": "stdout",
          "text": [
            "\u001b[1m7/7\u001b[0m \u001b[32m━━━━━━━━━━━━━━━━━━━━\u001b[0m\u001b[37m\u001b[0m \u001b[1m1s\u001b[0m 55ms/step\n"
          ]
        },
        {
          "output_type": "stream",
          "name": "stderr",
          "text": [
            "[I 2025-01-03 17:18:12,368] Trial 14 finished with value: 0.06182542340293687 and parameters: {'timesteps': 50, 'hl_0': 45, 'hl_1': 30, 'lr': 0.0005070975424054844, 'batch_size': 32, 'num_epochs': 50}. Best is trial 3 with value: 0.057779990073404515.\n",
            "suggest_loguniform has been deprecated in v3.0.0. This feature will be removed in v6.0.0. See https://github.com/optuna/optuna/releases/tag/v3.0.0. Use suggest_float(..., log=True) instead.\n",
            "Do not pass an `input_shape`/`input_dim` argument to a layer. When using Sequential models, prefer using an `Input(shape)` object as the first layer in the model instead.\n"
          ]
        },
        {
          "output_type": "stream",
          "name": "stdout",
          "text": [
            "\u001b[1m7/7\u001b[0m \u001b[32m━━━━━━━━━━━━━━━━━━━━\u001b[0m\u001b[37m\u001b[0m \u001b[1m1s\u001b[0m 49ms/step\n"
          ]
        },
        {
          "output_type": "stream",
          "name": "stderr",
          "text": [
            "[I 2025-01-03 17:19:05,998] Trial 15 finished with value: 63.93379495747092 and parameters: {'timesteps': 30, 'hl_0': 40, 'hl_1': 30, 'lr': 0.0004844706938787541, 'batch_size': 128, 'num_epochs': 150}. Best is trial 3 with value: 0.057779990073404515.\n",
            "suggest_loguniform has been deprecated in v3.0.0. This feature will be removed in v6.0.0. See https://github.com/optuna/optuna/releases/tag/v3.0.0. Use suggest_float(..., log=True) instead.\n",
            "Do not pass an `input_shape`/`input_dim` argument to a layer. When using Sequential models, prefer using an `Input(shape)` object as the first layer in the model instead.\n"
          ]
        },
        {
          "output_type": "stream",
          "name": "stdout",
          "text": [
            "\u001b[1m7/7\u001b[0m \u001b[32m━━━━━━━━━━━━━━━━━━━━\u001b[0m\u001b[37m\u001b[0m \u001b[1m1s\u001b[0m 82ms/step\n"
          ]
        },
        {
          "output_type": "stream",
          "name": "stderr",
          "text": [
            "[I 2025-01-03 17:20:13,604] Trial 16 finished with value: 0.3886389552733411 and parameters: {'timesteps': 50, 'hl_0': 45, 'hl_1': 25, 'lr': 0.0006108240472333911, 'batch_size': 32, 'num_epochs': 50}. Best is trial 3 with value: 0.057779990073404515.\n",
            "suggest_loguniform has been deprecated in v3.0.0. This feature will be removed in v6.0.0. See https://github.com/optuna/optuna/releases/tag/v3.0.0. Use suggest_float(..., log=True) instead.\n",
            "Do not pass an `input_shape`/`input_dim` argument to a layer. When using Sequential models, prefer using an `Input(shape)` object as the first layer in the model instead.\n"
          ]
        },
        {
          "output_type": "stream",
          "name": "stdout",
          "text": [
            "\u001b[1m7/7\u001b[0m \u001b[32m━━━━━━━━━━━━━━━━━━━━\u001b[0m\u001b[37m\u001b[0m \u001b[1m1s\u001b[0m 82ms/step\n"
          ]
        },
        {
          "output_type": "stream",
          "name": "stderr",
          "text": [
            "[I 2025-01-03 17:25:12,167] Trial 17 finished with value: 0.22380206688993087 and parameters: {'timesteps': 50, 'hl_0': 45, 'hl_1': 25, 'lr': 0.0004566107361547965, 'batch_size': 32, 'num_epochs': 250}. Best is trial 3 with value: 0.057779990073404515.\n",
            "suggest_loguniform has been deprecated in v3.0.0. This feature will be removed in v6.0.0. See https://github.com/optuna/optuna/releases/tag/v3.0.0. Use suggest_float(..., log=True) instead.\n",
            "Do not pass an `input_shape`/`input_dim` argument to a layer. When using Sequential models, prefer using an `Input(shape)` object as the first layer in the model instead.\n"
          ]
        },
        {
          "output_type": "stream",
          "name": "stdout",
          "text": [
            "\u001b[1m7/7\u001b[0m \u001b[32m━━━━━━━━━━━━━━━━━━━━\u001b[0m\u001b[37m\u001b[0m \u001b[1m1s\u001b[0m 51ms/step\n"
          ]
        },
        {
          "output_type": "stream",
          "name": "stderr",
          "text": [
            "[I 2025-01-03 17:27:53,968] Trial 18 finished with value: 0.07602840835068489 and parameters: {'timesteps': 40, 'hl_0': 30, 'hl_1': 35, 'lr': 0.0008190134027427062, 'batch_size': 32, 'num_epochs': 150}. Best is trial 3 with value: 0.057779990073404515.\n",
            "suggest_loguniform has been deprecated in v3.0.0. This feature will be removed in v6.0.0. See https://github.com/optuna/optuna/releases/tag/v3.0.0. Use suggest_float(..., log=True) instead.\n",
            "Do not pass an `input_shape`/`input_dim` argument to a layer. When using Sequential models, prefer using an `Input(shape)` object as the first layer in the model instead.\n"
          ]
        },
        {
          "output_type": "stream",
          "name": "stdout",
          "text": [
            "\u001b[1m7/7\u001b[0m \u001b[32m━━━━━━━━━━━━━━━━━━━━\u001b[0m\u001b[37m\u001b[0m \u001b[1m1s\u001b[0m 54ms/step\n"
          ]
        },
        {
          "output_type": "stream",
          "name": "stderr",
          "text": [
            "[I 2025-01-03 17:28:23,592] Trial 19 finished with value: 41.90556072602473 and parameters: {'timesteps': 40, 'hl_0': 40, 'hl_1': 30, 'lr': 0.0002918705524312894, 'batch_size': 128, 'num_epochs': 50}. Best is trial 3 with value: 0.057779990073404515.\n",
            "suggest_loguniform has been deprecated in v3.0.0. This feature will be removed in v6.0.0. See https://github.com/optuna/optuna/releases/tag/v3.0.0. Use suggest_float(..., log=True) instead.\n",
            "Do not pass an `input_shape`/`input_dim` argument to a layer. When using Sequential models, prefer using an `Input(shape)` object as the first layer in the model instead.\n"
          ]
        },
        {
          "output_type": "stream",
          "name": "stdout",
          "text": [
            "\u001b[1m7/7\u001b[0m \u001b[32m━━━━━━━━━━━━━━━━━━━━\u001b[0m\u001b[37m\u001b[0m \u001b[1m1s\u001b[0m 49ms/step\n"
          ]
        },
        {
          "output_type": "stream",
          "name": "stderr",
          "text": [
            "[I 2025-01-03 17:29:34,287] Trial 20 finished with value: 19183.346552677405 and parameters: {'timesteps': 30, 'hl_0': 35, 'hl_1': 25, 'lr': 0.00013516509733704424, 'batch_size': 32, 'num_epochs': 100}. Best is trial 3 with value: 0.057779990073404515.\n",
            "suggest_loguniform has been deprecated in v3.0.0. This feature will be removed in v6.0.0. See https://github.com/optuna/optuna/releases/tag/v3.0.0. Use suggest_float(..., log=True) instead.\n",
            "Do not pass an `input_shape`/`input_dim` argument to a layer. When using Sequential models, prefer using an `Input(shape)` object as the first layer in the model instead.\n"
          ]
        },
        {
          "output_type": "stream",
          "name": "stdout",
          "text": [
            "\u001b[1m7/7\u001b[0m \u001b[32m━━━━━━━━━━━━━━━━━━━━\u001b[0m\u001b[37m\u001b[0m \u001b[1m1s\u001b[0m 54ms/step\n"
          ]
        },
        {
          "output_type": "stream",
          "name": "stderr",
          "text": [
            "[I 2025-01-03 17:32:11,176] Trial 21 finished with value: 0.019488066019010212 and parameters: {'timesteps': 40, 'hl_0': 30, 'hl_1': 35, 'lr': 0.0007308807020317016, 'batch_size': 32, 'num_epochs': 150}. Best is trial 21 with value: 0.019488066019010212.\n",
            "suggest_loguniform has been deprecated in v3.0.0. This feature will be removed in v6.0.0. See https://github.com/optuna/optuna/releases/tag/v3.0.0. Use suggest_float(..., log=True) instead.\n",
            "Do not pass an `input_shape`/`input_dim` argument to a layer. When using Sequential models, prefer using an `Input(shape)` object as the first layer in the model instead.\n"
          ]
        },
        {
          "output_type": "stream",
          "name": "stdout",
          "text": [
            "\u001b[1m7/7\u001b[0m \u001b[32m━━━━━━━━━━━━━━━━━━━━\u001b[0m\u001b[37m\u001b[0m \u001b[1m1s\u001b[0m 51ms/step\n"
          ]
        },
        {
          "output_type": "stream",
          "name": "stderr",
          "text": [
            "[I 2025-01-03 17:36:33,695] Trial 22 finished with value: 1223.9661599774704 and parameters: {'timesteps': 40, 'hl_0': 30, 'hl_1': 35, 'lr': 0.0003649125553482345, 'batch_size': 32, 'num_epochs': 250}. Best is trial 21 with value: 0.019488066019010212.\n",
            "suggest_loguniform has been deprecated in v3.0.0. This feature will be removed in v6.0.0. See https://github.com/optuna/optuna/releases/tag/v3.0.0. Use suggest_float(..., log=True) instead.\n",
            "Do not pass an `input_shape`/`input_dim` argument to a layer. When using Sequential models, prefer using an `Input(shape)` object as the first layer in the model instead.\n"
          ]
        },
        {
          "output_type": "stream",
          "name": "stdout",
          "text": [
            "\u001b[1m7/7\u001b[0m \u001b[32m━━━━━━━━━━━━━━━━━━━━\u001b[0m\u001b[37m\u001b[0m \u001b[1m1s\u001b[0m 52ms/step\n"
          ]
        },
        {
          "output_type": "stream",
          "name": "stderr",
          "text": [
            "[I 2025-01-03 17:39:27,068] Trial 23 finished with value: 0.8074769558981605 and parameters: {'timesteps': 50, 'hl_0': 25, 'hl_1': 30, 'lr': 0.0008454156453357692, 'batch_size': 32, 'num_epochs': 150}. Best is trial 21 with value: 0.019488066019010212.\n",
            "suggest_loguniform has been deprecated in v3.0.0. This feature will be removed in v6.0.0. See https://github.com/optuna/optuna/releases/tag/v3.0.0. Use suggest_float(..., log=True) instead.\n",
            "Do not pass an `input_shape`/`input_dim` argument to a layer. When using Sequential models, prefer using an `Input(shape)` object as the first layer in the model instead.\n"
          ]
        },
        {
          "output_type": "stream",
          "name": "stdout",
          "text": [
            "\u001b[1m7/7\u001b[0m \u001b[32m━━━━━━━━━━━━━━━━━━━━\u001b[0m\u001b[37m\u001b[0m \u001b[1m1s\u001b[0m 77ms/step\n"
          ]
        },
        {
          "output_type": "stream",
          "name": "stderr",
          "text": [
            "[I 2025-01-03 17:40:25,482] Trial 24 finished with value: 0.13778339966021702 and parameters: {'timesteps': 40, 'hl_0': 35, 'hl_1': 45, 'lr': 0.001276629293017871, 'batch_size': 32, 'num_epochs': 50}. Best is trial 21 with value: 0.019488066019010212.\n",
            "suggest_loguniform has been deprecated in v3.0.0. This feature will be removed in v6.0.0. See https://github.com/optuna/optuna/releases/tag/v3.0.0. Use suggest_float(..., log=True) instead.\n",
            "Do not pass an `input_shape`/`input_dim` argument to a layer. When using Sequential models, prefer using an `Input(shape)` object as the first layer in the model instead.\n"
          ]
        },
        {
          "output_type": "stream",
          "name": "stdout",
          "text": [
            "\u001b[1m7/7\u001b[0m \u001b[32m━━━━━━━━━━━━━━━━━━━━\u001b[0m\u001b[37m\u001b[0m \u001b[1m1s\u001b[0m 79ms/step\n"
          ]
        },
        {
          "output_type": "stream",
          "name": "stderr",
          "text": [
            "[I 2025-01-03 17:42:50,834] Trial 25 finished with value: 1.5421776451280562 and parameters: {'timesteps': 30, 'hl_0': 35, 'hl_1': 40, 'lr': 0.00021740582438030235, 'batch_size': 32, 'num_epochs': 200}. Best is trial 21 with value: 0.019488066019010212.\n",
            "suggest_loguniform has been deprecated in v3.0.0. This feature will be removed in v6.0.0. See https://github.com/optuna/optuna/releases/tag/v3.0.0. Use suggest_float(..., log=True) instead.\n",
            "Do not pass an `input_shape`/`input_dim` argument to a layer. When using Sequential models, prefer using an `Input(shape)` object as the first layer in the model instead.\n"
          ]
        },
        {
          "output_type": "stream",
          "name": "stdout",
          "text": [
            "\u001b[1m7/7\u001b[0m \u001b[32m━━━━━━━━━━━━━━━━━━━━\u001b[0m\u001b[37m\u001b[0m \u001b[1m1s\u001b[0m 54ms/step\n"
          ]
        },
        {
          "output_type": "stream",
          "name": "stderr",
          "text": [
            "[I 2025-01-03 17:44:57,322] Trial 26 finished with value: 1009.8358731338631 and parameters: {'timesteps': 50, 'hl_0': 45, 'hl_1': 30, 'lr': 0.0006599528533442957, 'batch_size': 32, 'num_epochs': 100}. Best is trial 21 with value: 0.019488066019010212.\n",
            "suggest_loguniform has been deprecated in v3.0.0. This feature will be removed in v6.0.0. See https://github.com/optuna/optuna/releases/tag/v3.0.0. Use suggest_float(..., log=True) instead.\n",
            "Do not pass an `input_shape`/`input_dim` argument to a layer. When using Sequential models, prefer using an `Input(shape)` object as the first layer in the model instead.\n"
          ]
        },
        {
          "output_type": "stream",
          "name": "stdout",
          "text": [
            "\u001b[1m6/6\u001b[0m \u001b[32m━━━━━━━━━━━━━━━━━━━━\u001b[0m\u001b[37m\u001b[0m \u001b[1m1s\u001b[0m 69ms/step\n"
          ]
        },
        {
          "output_type": "stream",
          "name": "stderr",
          "text": [
            "[I 2025-01-03 17:45:35,274] Trial 27 finished with value: 26296.09328314913 and parameters: {'timesteps': 60, 'hl_0': 30, 'hl_1': 35, 'lr': 0.00037068140042662213, 'batch_size': 64, 'num_epochs': 50}. Best is trial 21 with value: 0.019488066019010212.\n",
            "suggest_loguniform has been deprecated in v3.0.0. This feature will be removed in v6.0.0. See https://github.com/optuna/optuna/releases/tag/v3.0.0. Use suggest_float(..., log=True) instead.\n",
            "Do not pass an `input_shape`/`input_dim` argument to a layer. When using Sequential models, prefer using an `Input(shape)` object as the first layer in the model instead.\n"
          ]
        },
        {
          "output_type": "stream",
          "name": "stdout",
          "text": [
            "\u001b[1m7/7\u001b[0m \u001b[32m━━━━━━━━━━━━━━━━━━━━\u001b[0m\u001b[37m\u001b[0m \u001b[1m1s\u001b[0m 53ms/step\n"
          ]
        },
        {
          "output_type": "stream",
          "name": "stderr",
          "text": [
            "[I 2025-01-03 17:47:56,779] Trial 28 finished with value: 0.01223684422486827 and parameters: {'timesteps': 50, 'hl_0': 40, 'hl_1': 25, 'lr': 0.001801998520868284, 'batch_size': 128, 'num_epochs': 250}. Best is trial 28 with value: 0.01223684422486827.\n",
            "suggest_loguniform has been deprecated in v3.0.0. This feature will be removed in v6.0.0. See https://github.com/optuna/optuna/releases/tag/v3.0.0. Use suggest_float(..., log=True) instead.\n",
            "Do not pass an `input_shape`/`input_dim` argument to a layer. When using Sequential models, prefer using an `Input(shape)` object as the first layer in the model instead.\n"
          ]
        },
        {
          "output_type": "stream",
          "name": "stdout",
          "text": [
            "\u001b[1m6/6\u001b[0m \u001b[32m━━━━━━━━━━━━━━━━━━━━\u001b[0m\u001b[37m\u001b[0m \u001b[1m1s\u001b[0m 66ms/step\n"
          ]
        },
        {
          "output_type": "stream",
          "name": "stderr",
          "text": [
            "[I 2025-01-03 17:50:32,155] Trial 29 finished with value: 0.3009057021926683 and parameters: {'timesteps': 60, 'hl_0': 40, 'hl_1': 25, 'lr': 0.0021886579204044468, 'batch_size': 128, 'num_epochs': 250}. Best is trial 28 with value: 0.01223684422486827.\n",
            "suggest_loguniform has been deprecated in v3.0.0. This feature will be removed in v6.0.0. See https://github.com/optuna/optuna/releases/tag/v3.0.0. Use suggest_float(..., log=True) instead.\n",
            "Do not pass an `input_shape`/`input_dim` argument to a layer. When using Sequential models, prefer using an `Input(shape)` object as the first layer in the model instead.\n"
          ]
        },
        {
          "output_type": "stream",
          "name": "stdout",
          "text": [
            "\u001b[1m7/7\u001b[0m \u001b[32m━━━━━━━━━━━━━━━━━━━━\u001b[0m\u001b[37m\u001b[0m \u001b[1m1s\u001b[0m 53ms/step\n"
          ]
        },
        {
          "output_type": "stream",
          "name": "stderr",
          "text": [
            "[I 2025-01-03 17:52:19,387] Trial 30 finished with value: 0.061200990268591916 and parameters: {'timesteps': 30, 'hl_0': 50, 'hl_1': 45, 'lr': 0.005185218551393082, 'batch_size': 128, 'num_epochs': 250}. Best is trial 28 with value: 0.01223684422486827.\n",
            "suggest_loguniform has been deprecated in v3.0.0. This feature will be removed in v6.0.0. See https://github.com/optuna/optuna/releases/tag/v3.0.0. Use suggest_float(..., log=True) instead.\n",
            "Do not pass an `input_shape`/`input_dim` argument to a layer. When using Sequential models, prefer using an `Input(shape)` object as the first layer in the model instead.\n"
          ]
        },
        {
          "output_type": "stream",
          "name": "stdout",
          "text": [
            "\u001b[1m7/7\u001b[0m \u001b[32m━━━━━━━━━━━━━━━━━━━━\u001b[0m\u001b[37m\u001b[0m \u001b[1m1s\u001b[0m 77ms/step\n"
          ]
        },
        {
          "output_type": "stream",
          "name": "stderr",
          "text": [
            "[I 2025-01-03 17:54:21,587] Trial 31 finished with value: 0.049648232255968996 and parameters: {'timesteps': 30, 'hl_0': 50, 'hl_1': 50, 'lr': 0.004234320763808227, 'batch_size': 128, 'num_epochs': 250}. Best is trial 28 with value: 0.01223684422486827.\n",
            "suggest_loguniform has been deprecated in v3.0.0. This feature will be removed in v6.0.0. See https://github.com/optuna/optuna/releases/tag/v3.0.0. Use suggest_float(..., log=True) instead.\n",
            "Do not pass an `input_shape`/`input_dim` argument to a layer. When using Sequential models, prefer using an `Input(shape)` object as the first layer in the model instead.\n"
          ]
        },
        {
          "output_type": "stream",
          "name": "stdout",
          "text": [
            "\u001b[1m8/8\u001b[0m \u001b[32m━━━━━━━━━━━━━━━━━━━━\u001b[0m\u001b[37m\u001b[0m \u001b[1m1s\u001b[0m 44ms/step\n"
          ]
        },
        {
          "output_type": "stream",
          "name": "stderr",
          "text": [
            "[I 2025-01-03 17:55:30,372] Trial 32 finished with value: 0.07424975038078886 and parameters: {'timesteps': 20, 'hl_0': 50, 'hl_1': 50, 'lr': 0.0030617995199810288, 'batch_size': 128, 'num_epochs': 200}. Best is trial 28 with value: 0.01223684422486827.\n",
            "suggest_loguniform has been deprecated in v3.0.0. This feature will be removed in v6.0.0. See https://github.com/optuna/optuna/releases/tag/v3.0.0. Use suggest_float(..., log=True) instead.\n",
            "Do not pass an `input_shape`/`input_dim` argument to a layer. When using Sequential models, prefer using an `Input(shape)` object as the first layer in the model instead.\n"
          ]
        },
        {
          "output_type": "stream",
          "name": "stdout",
          "text": [
            "\u001b[1m7/7\u001b[0m \u001b[32m━━━━━━━━━━━━━━━━━━━━\u001b[0m\u001b[37m\u001b[0m \u001b[1m1s\u001b[0m 56ms/step\n"
          ]
        },
        {
          "output_type": "stream",
          "name": "stderr",
          "text": [
            "[I 2025-01-03 17:57:13,386] Trial 33 finished with value: 0.02921134995858631 and parameters: {'timesteps': 40, 'hl_0': 30, 'hl_1': 25, 'lr': 0.0045297320376902605, 'batch_size': 128, 'num_epochs': 300}. Best is trial 28 with value: 0.01223684422486827.\n",
            "suggest_loguniform has been deprecated in v3.0.0. This feature will be removed in v6.0.0. See https://github.com/optuna/optuna/releases/tag/v3.0.0. Use suggest_float(..., log=True) instead.\n",
            "Do not pass an `input_shape`/`input_dim` argument to a layer. When using Sequential models, prefer using an `Input(shape)` object as the first layer in the model instead.\n"
          ]
        },
        {
          "output_type": "stream",
          "name": "stdout",
          "text": [
            "\u001b[1m7/7\u001b[0m \u001b[32m━━━━━━━━━━━━━━━━━━━━\u001b[0m\u001b[37m\u001b[0m \u001b[1m1s\u001b[0m 77ms/step\n"
          ]
        },
        {
          "output_type": "stream",
          "name": "stderr",
          "text": [
            "[I 2025-01-03 17:58:53,461] Trial 34 finished with value: 0.026058752088579103 and parameters: {'timesteps': 40, 'hl_0': 25, 'hl_1': 25, 'lr': 0.004299236566082268, 'batch_size': 128, 'num_epochs': 300}. Best is trial 28 with value: 0.01223684422486827.\n",
            "suggest_loguniform has been deprecated in v3.0.0. This feature will be removed in v6.0.0. See https://github.com/optuna/optuna/releases/tag/v3.0.0. Use suggest_float(..., log=True) instead.\n",
            "Do not pass an `input_shape`/`input_dim` argument to a layer. When using Sequential models, prefer using an `Input(shape)` object as the first layer in the model instead.\n"
          ]
        },
        {
          "output_type": "stream",
          "name": "stdout",
          "text": [
            "\u001b[1m7/7\u001b[0m \u001b[32m━━━━━━━━━━━━━━━━━━━━\u001b[0m\u001b[37m\u001b[0m \u001b[1m1s\u001b[0m 50ms/step\n"
          ]
        },
        {
          "output_type": "stream",
          "name": "stderr",
          "text": [
            "[I 2025-01-03 18:00:31,822] Trial 35 finished with value: 0.020363530514799295 and parameters: {'timesteps': 40, 'hl_0': 20, 'hl_1': 25, 'lr': 0.008980877933965507, 'batch_size': 128, 'num_epochs': 300}. Best is trial 28 with value: 0.01223684422486827.\n",
            "suggest_loguniform has been deprecated in v3.0.0. This feature will be removed in v6.0.0. See https://github.com/optuna/optuna/releases/tag/v3.0.0. Use suggest_float(..., log=True) instead.\n",
            "Do not pass an `input_shape`/`input_dim` argument to a layer. When using Sequential models, prefer using an `Input(shape)` object as the first layer in the model instead.\n"
          ]
        },
        {
          "output_type": "stream",
          "name": "stdout",
          "text": [
            "\u001b[1m7/7\u001b[0m \u001b[32m━━━━━━━━━━━━━━━━━━━━\u001b[0m\u001b[37m\u001b[0m \u001b[1m1s\u001b[0m 49ms/step\n"
          ]
        },
        {
          "output_type": "stream",
          "name": "stderr",
          "text": [
            "[I 2025-01-03 18:02:07,472] Trial 36 finished with value: 1899.5433476172605 and parameters: {'timesteps': 40, 'hl_0': 20, 'hl_1': 20, 'lr': 0.008746440428542399, 'batch_size': 128, 'num_epochs': 300}. Best is trial 28 with value: 0.01223684422486827.\n",
            "suggest_loguniform has been deprecated in v3.0.0. This feature will be removed in v6.0.0. See https://github.com/optuna/optuna/releases/tag/v3.0.0. Use suggest_float(..., log=True) instead.\n",
            "Do not pass an `input_shape`/`input_dim` argument to a layer. When using Sequential models, prefer using an `Input(shape)` object as the first layer in the model instead.\n"
          ]
        },
        {
          "output_type": "stream",
          "name": "stdout",
          "text": [
            "\u001b[1m7/7\u001b[0m \u001b[32m━━━━━━━━━━━━━━━━━━━━\u001b[0m\u001b[37m\u001b[0m \u001b[1m1s\u001b[0m 72ms/step\n"
          ]
        },
        {
          "output_type": "stream",
          "name": "stderr",
          "text": [
            "[I 2025-01-03 18:03:46,159] Trial 37 finished with value: 0.13910858132299447 and parameters: {'timesteps': 40, 'hl_0': 25, 'hl_1': 20, 'lr': 0.007007633581580479, 'batch_size': 128, 'num_epochs': 300}. Best is trial 28 with value: 0.01223684422486827.\n",
            "suggest_loguniform has been deprecated in v3.0.0. This feature will be removed in v6.0.0. See https://github.com/optuna/optuna/releases/tag/v3.0.0. Use suggest_float(..., log=True) instead.\n",
            "Do not pass an `input_shape`/`input_dim` argument to a layer. When using Sequential models, prefer using an `Input(shape)` object as the first layer in the model instead.\n"
          ]
        },
        {
          "output_type": "stream",
          "name": "stdout",
          "text": [
            "\u001b[1m7/7\u001b[0m \u001b[32m━━━━━━━━━━━━━━━━━━━━\u001b[0m\u001b[37m\u001b[0m \u001b[1m1s\u001b[0m 51ms/step\n"
          ]
        },
        {
          "output_type": "stream",
          "name": "stderr",
          "text": [
            "[I 2025-01-03 18:05:23,980] Trial 38 finished with value: 0.013486394505168912 and parameters: {'timesteps': 40, 'hl_0': 20, 'hl_1': 25, 'lr': 0.003748010374842921, 'batch_size': 128, 'num_epochs': 300}. Best is trial 28 with value: 0.01223684422486827.\n",
            "suggest_loguniform has been deprecated in v3.0.0. This feature will be removed in v6.0.0. See https://github.com/optuna/optuna/releases/tag/v3.0.0. Use suggest_float(..., log=True) instead.\n",
            "Do not pass an `input_shape`/`input_dim` argument to a layer. When using Sequential models, prefer using an `Input(shape)` object as the first layer in the model instead.\n"
          ]
        },
        {
          "output_type": "stream",
          "name": "stdout",
          "text": [
            "\u001b[1m7/7\u001b[0m \u001b[32m━━━━━━━━━━━━━━━━━━━━\u001b[0m\u001b[37m\u001b[0m \u001b[1m1s\u001b[0m 58ms/step\n"
          ]
        },
        {
          "output_type": "stream",
          "name": "stderr",
          "text": [
            "[I 2025-01-03 18:15:27,899] Trial 39 finished with value: 0.641127209160718 and parameters: {'timesteps': 50, 'hl_0': 20, 'hl_1': 25, 'lr': 0.0019318893148401516, 'batch_size': 16, 'num_epochs': 300}. Best is trial 28 with value: 0.01223684422486827.\n",
            "suggest_loguniform has been deprecated in v3.0.0. This feature will be removed in v6.0.0. See https://github.com/optuna/optuna/releases/tag/v3.0.0. Use suggest_float(..., log=True) instead.\n",
            "Do not pass an `input_shape`/`input_dim` argument to a layer. When using Sequential models, prefer using an `Input(shape)` object as the first layer in the model instead.\n"
          ]
        },
        {
          "output_type": "stream",
          "name": "stdout",
          "text": [
            "\u001b[1m7/7\u001b[0m \u001b[32m━━━━━━━━━━━━━━━━━━━━\u001b[0m\u001b[37m\u001b[0m \u001b[1m1s\u001b[0m 80ms/step\n"
          ]
        },
        {
          "output_type": "stream",
          "name": "stderr",
          "text": [
            "[I 2025-01-03 18:17:48,055] Trial 40 finished with value: 0.12312770581992433 and parameters: {'timesteps': 40, 'hl_0': 20, 'hl_1': 20, 'lr': 0.003373397996070088, 'batch_size': 64, 'num_epochs': 250}. Best is trial 28 with value: 0.01223684422486827.\n",
            "suggest_loguniform has been deprecated in v3.0.0. This feature will be removed in v6.0.0. See https://github.com/optuna/optuna/releases/tag/v3.0.0. Use suggest_float(..., log=True) instead.\n",
            "Do not pass an `input_shape`/`input_dim` argument to a layer. When using Sequential models, prefer using an `Input(shape)` object as the first layer in the model instead.\n"
          ]
        },
        {
          "output_type": "stream",
          "name": "stdout",
          "text": [
            "\u001b[1m7/7\u001b[0m \u001b[32m━━━━━━━━━━━━━━━━━━━━\u001b[0m\u001b[37m\u001b[0m \u001b[1m1s\u001b[0m 57ms/step\n"
          ]
        },
        {
          "output_type": "stream",
          "name": "stderr",
          "text": [
            "[I 2025-01-03 18:19:32,005] Trial 41 finished with value: 0.05817194426464973 and parameters: {'timesteps': 40, 'hl_0': 25, 'hl_1': 25, 'lr': 0.006506546267951361, 'batch_size': 128, 'num_epochs': 300}. Best is trial 28 with value: 0.01223684422486827.\n",
            "suggest_loguniform has been deprecated in v3.0.0. This feature will be removed in v6.0.0. See https://github.com/optuna/optuna/releases/tag/v3.0.0. Use suggest_float(..., log=True) instead.\n",
            "Do not pass an `input_shape`/`input_dim` argument to a layer. When using Sequential models, prefer using an `Input(shape)` object as the first layer in the model instead.\n"
          ]
        },
        {
          "output_type": "stream",
          "name": "stdout",
          "text": [
            "\u001b[1m7/7\u001b[0m \u001b[32m━━━━━━━━━━━━━━━━━━━━\u001b[0m\u001b[37m\u001b[0m \u001b[1m1s\u001b[0m 55ms/step\n"
          ]
        },
        {
          "output_type": "stream",
          "name": "stderr",
          "text": [
            "[I 2025-01-03 18:21:07,909] Trial 42 finished with value: 0.642475300526874 and parameters: {'timesteps': 40, 'hl_0': 20, 'hl_1': 20, 'lr': 0.009883322308313486, 'batch_size': 128, 'num_epochs': 300}. Best is trial 28 with value: 0.01223684422486827.\n",
            "suggest_loguniform has been deprecated in v3.0.0. This feature will be removed in v6.0.0. See https://github.com/optuna/optuna/releases/tag/v3.0.0. Use suggest_float(..., log=True) instead.\n",
            "Do not pass an `input_shape`/`input_dim` argument to a layer. When using Sequential models, prefer using an `Input(shape)` object as the first layer in the model instead.\n"
          ]
        },
        {
          "output_type": "stream",
          "name": "stdout",
          "text": [
            "\u001b[1m7/7\u001b[0m \u001b[32m━━━━━━━━━━━━━━━━━━━━\u001b[0m\u001b[37m\u001b[0m \u001b[1m1s\u001b[0m 50ms/step\n"
          ]
        },
        {
          "output_type": "stream",
          "name": "stderr",
          "text": [
            "[I 2025-01-03 18:22:49,152] Trial 43 finished with value: 0.11300933976601218 and parameters: {'timesteps': 40, 'hl_0': 25, 'hl_1': 25, 'lr': 0.002448314877107715, 'batch_size': 128, 'num_epochs': 300}. Best is trial 28 with value: 0.01223684422486827.\n",
            "suggest_loguniform has been deprecated in v3.0.0. This feature will be removed in v6.0.0. See https://github.com/optuna/optuna/releases/tag/v3.0.0. Use suggest_float(..., log=True) instead.\n",
            "Do not pass an `input_shape`/`input_dim` argument to a layer. When using Sequential models, prefer using an `Input(shape)` object as the first layer in the model instead.\n"
          ]
        },
        {
          "output_type": "stream",
          "name": "stdout",
          "text": [
            "\u001b[1m7/7\u001b[0m \u001b[32m━━━━━━━━━━━━━━━━━━━━\u001b[0m\u001b[37m\u001b[0m \u001b[1m1s\u001b[0m 51ms/step\n"
          ]
        },
        {
          "output_type": "stream",
          "name": "stderr",
          "text": [
            "[I 2025-01-03 18:24:29,454] Trial 44 finished with value: 0.7564406687518913 and parameters: {'timesteps': 40, 'hl_0': 20, 'hl_1': 30, 'lr': 0.0036942276894660806, 'batch_size': 128, 'num_epochs': 300}. Best is trial 28 with value: 0.01223684422486827.\n",
            "suggest_loguniform has been deprecated in v3.0.0. This feature will be removed in v6.0.0. See https://github.com/optuna/optuna/releases/tag/v3.0.0. Use suggest_float(..., log=True) instead.\n",
            "Do not pass an `input_shape`/`input_dim` argument to a layer. When using Sequential models, prefer using an `Input(shape)` object as the first layer in the model instead.\n"
          ]
        },
        {
          "output_type": "stream",
          "name": "stdout",
          "text": [
            "\u001b[1m7/7\u001b[0m \u001b[32m━━━━━━━━━━━━━━━━━━━━\u001b[0m\u001b[37m\u001b[0m \u001b[1m1s\u001b[0m 51ms/step\n"
          ]
        },
        {
          "output_type": "stream",
          "name": "stderr",
          "text": [
            "[I 2025-01-03 18:25:50,922] Trial 45 finished with value: 0.10358743881823801 and parameters: {'timesteps': 40, 'hl_0': 25, 'hl_1': 20, 'lr': 0.0016544410451638475, 'batch_size': 128, 'num_epochs': 250}. Best is trial 28 with value: 0.01223684422486827.\n",
            "suggest_loguniform has been deprecated in v3.0.0. This feature will be removed in v6.0.0. See https://github.com/optuna/optuna/releases/tag/v3.0.0. Use suggest_float(..., log=True) instead.\n",
            "Do not pass an `input_shape`/`input_dim` argument to a layer. When using Sequential models, prefer using an `Input(shape)` object as the first layer in the model instead.\n"
          ]
        },
        {
          "output_type": "stream",
          "name": "stdout",
          "text": [
            "\u001b[1m7/7\u001b[0m \u001b[32m━━━━━━━━━━━━━━━━━━━━\u001b[0m\u001b[37m\u001b[0m \u001b[1m1s\u001b[0m 49ms/step\n"
          ]
        },
        {
          "output_type": "stream",
          "name": "stderr",
          "text": [
            "[I 2025-01-03 18:28:59,873] Trial 46 finished with value: 1.1759012305641183 and parameters: {'timesteps': 30, 'hl_0': 20, 'hl_1': 25, 'lr': 0.0054106796928262745, 'batch_size': 16, 'num_epochs': 150}. Best is trial 28 with value: 0.01223684422486827.\n",
            "suggest_loguniform has been deprecated in v3.0.0. This feature will be removed in v6.0.0. See https://github.com/optuna/optuna/releases/tag/v3.0.0. Use suggest_float(..., log=True) instead.\n",
            "Do not pass an `input_shape`/`input_dim` argument to a layer. When using Sequential models, prefer using an `Input(shape)` object as the first layer in the model instead.\n"
          ]
        },
        {
          "output_type": "stream",
          "name": "stdout",
          "text": [
            "\u001b[1m7/7\u001b[0m \u001b[32m━━━━━━━━━━━━━━━━━━━━\u001b[0m\u001b[37m\u001b[0m \u001b[1m1s\u001b[0m 54ms/step\n"
          ]
        },
        {
          "output_type": "stream",
          "name": "stderr",
          "text": [
            "[I 2025-01-03 18:30:42,034] Trial 47 finished with value: 0.04264222013580019 and parameters: {'timesteps': 50, 'hl_0': 25, 'hl_1': 30, 'lr': 0.007657093437300358, 'batch_size': 128, 'num_epochs': 200}. Best is trial 28 with value: 0.01223684422486827.\n",
            "suggest_loguniform has been deprecated in v3.0.0. This feature will be removed in v6.0.0. See https://github.com/optuna/optuna/releases/tag/v3.0.0. Use suggest_float(..., log=True) instead.\n",
            "Do not pass an `input_shape`/`input_dim` argument to a layer. When using Sequential models, prefer using an `Input(shape)` object as the first layer in the model instead.\n"
          ]
        },
        {
          "output_type": "stream",
          "name": "stdout",
          "text": [
            "\u001b[1m7/7\u001b[0m \u001b[32m━━━━━━━━━━━━━━━━━━━━\u001b[0m\u001b[37m\u001b[0m \u001b[1m1s\u001b[0m 53ms/step\n"
          ]
        },
        {
          "output_type": "stream",
          "name": "stderr",
          "text": [
            "[I 2025-01-03 18:33:52,937] Trial 48 finished with value: 0.00871939259074017 and parameters: {'timesteps': 50, 'hl_0': 20, 'hl_1': 25, 'lr': 0.002537554785518352, 'batch_size': 64, 'num_epochs': 300}. Best is trial 48 with value: 0.00871939259074017.\n",
            "suggest_loguniform has been deprecated in v3.0.0. This feature will be removed in v6.0.0. See https://github.com/optuna/optuna/releases/tag/v3.0.0. Use suggest_float(..., log=True) instead.\n",
            "Do not pass an `input_shape`/`input_dim` argument to a layer. When using Sequential models, prefer using an `Input(shape)` object as the first layer in the model instead.\n"
          ]
        },
        {
          "output_type": "stream",
          "name": "stdout",
          "text": [
            "\u001b[1m6/6\u001b[0m \u001b[32m━━━━━━━━━━━━━━━━━━━━\u001b[0m\u001b[37m\u001b[0m \u001b[1m1s\u001b[0m 62ms/step\n"
          ]
        },
        {
          "output_type": "stream",
          "name": "stderr",
          "text": [
            "[I 2025-01-03 18:36:39,438] Trial 49 finished with value: 0.048081399583713755 and parameters: {'timesteps': 60, 'hl_0': 20, 'hl_1': 30, 'lr': 0.002677637218058929, 'batch_size': 64, 'num_epochs': 250}. Best is trial 48 with value: 0.00871939259074017.\n"
          ]
        },
        {
          "output_type": "stream",
          "name": "stdout",
          "text": [
            "Best params: {'timesteps': 50, 'hl_0': 20, 'hl_1': 25, 'lr': 0.002537554785518352, 'batch_size': 64, 'num_epochs': 300}\n"
          ]
        }
      ]
    },
    {
      "cell_type": "markdown",
      "source": [
        "Huấn luyện mô hình với tham số tối ưu"
      ],
      "metadata": {
        "id": "b3pgZDQeq3gd"
      }
    },
    {
      "cell_type": "code",
      "execution_count": null,
      "metadata": {
        "id": "dC-6FRJMk9J2",
        "colab": {
          "base_uri": "https://localhost:8080/",
          "height": 589
        },
        "outputId": "19943326-318a-4779-aa32-20e9c9264ece"
      },
      "outputs": [
        {
          "output_type": "stream",
          "name": "stderr",
          "text": [
            "Do not pass an `input_shape`/`input_dim` argument to a layer. When using Sequential models, prefer using an `Input(shape)` object as the first layer in the model instead.\n"
          ]
        },
        {
          "output_type": "display_data",
          "data": {
            "text/plain": [
              "<Figure size 1200x600 with 1 Axes>"
            ],
            "image/png": "[encoded data removed]"
          },
          "metadata": {}
        }
      ],
      "source": [
        "timesteps = 50\n",
        "hl = [20,25]\n",
        "lr =  0.002537554785518352\n",
        "batch_size = 64\n",
        "num_epochs = 300\n",
        "\n",
        "model, train_error, val_error = fit_model(train, val, timesteps, hl, lr, batch_size, num_epochs)\n",
        "\n",
        "# Đồ thị biểu diễn sự mất mát trong quá trình huấn luyện và kiểm tra\n",
        "def plot_error(train_loss, val_loss):\n",
        "    plt.figure(figsize=(12, 6))\n",
        "    plt.plot(train_loss, c = 'r')\n",
        "    plt.plot(val_loss, c = 'b')\n",
        "    plt.ylabel('Loss')\n",
        "    plt.xlabel('Epochs')\n",
        "    plt.title('Đồ thị biểu diễn sự mất mát trong quá trình Train và Valid')\n",
        "    plt.legend(['train', 'val'], loc = 'upper right')\n",
        "    plt.show()\n",
        "plot_error(train_error, val_error)"
      ]
    },
    {
      "cell_type": "markdown",
      "metadata": {
        "id": "tXIK5UlMn8oe"
      },
      "source": [
        "#ĐÁNH GIÁ KẾT QUẢ"
      ]
    },
    {
      "cell_type": "code",
      "execution_count": null,
      "metadata": {
        "id": "xbJhadj7oOCQ",
        "colab": {
          "base_uri": "https://localhost:8080/",
          "height": 659
        },
        "outputId": "135cf22c-c8a6-4817-89a8-e06990c9ac14"
      },
      "outputs": [
        {
          "output_type": "stream",
          "name": "stdout",
          "text": [
            "\u001b[1m7/7\u001b[0m \u001b[32m━━━━━━━━━━━━━━━━━━━━\u001b[0m\u001b[37m\u001b[0m \u001b[1m0s\u001b[0m 11ms/step\n",
            "MSE = 0.008220412572287865\n",
            "RMSE = 0.09066649090092692\n",
            "MAPE = 0.038787877693613956\n",
            "R-Squared Score = 0.9156511417906498\n"
          ]
        },
        {
          "output_type": "display_data",
          "data": {
            "text/plain": [
              "<Figure size 1200x600 with 1 Axes>"
            ],
            "image/png": "[encoded data removed]"
          },
          "metadata": {}
        }
      ],
      "source": [
        "mse, rmse, mape, r2, true, predicted = evaluate_model(model, test, timesteps)\n",
        "print('MSE = {}'.format(mse))\n",
        "print('RMSE = {}'.format(rmse))\n",
        "print('MAPE = {}'.format(mape))\n",
        "print('R-Squared Score = {}'.format(r2))\n",
        "\n",
        "def plot_data(Y_test, Y_hat):\n",
        "    plt.figure(figsize=(12, 6))\n",
        "    plt.plot(Y_test, color='r', label='Giá thực tế')\n",
        "    plt.plot(Y_hat, color='b', label='Giá dự đoán')\n",
        "    plt.xlabel('Ngày')\n",
        "    plt.ylabel('Giá')\n",
        "    plt.title(\"Dự đoán giá cổ phiếu bằng mô hình LSTM đơn biến\")\n",
        "    plt.legend(loc='lower right')\n",
        "    plt.grid(True)\n",
        "    plt.show()\n",
        "plot_data(true, predicted)"
      ]
    },
    {
      "cell_type": "code",
      "source": [
        "# Tạo DataFrame từ giá trị thực tế và giá trị dự đoán\n",
        "result_df = pd.DataFrame({\n",
        "    'Actual': true.flatten(),\n",
        "    'Predicted': predicted.flatten()\n",
        "})\n",
        "\n",
        "result_df['Giá thực tế'] = sc.inverse_transform(result_df[['Actual']])\n",
        "result_df['Giá dự đoán'] = sc.inverse_transform(result_df[['Predicted']])\n",
        "result_df['Chênh lệch'] = result_df['Giá thực tế'] - result_df['Giá dự đoán']\n",
        "result_df = result_df.drop(columns=['Actual', 'Predicted'])\n",
        "\n",
        "print(\"Bảng so sánh giá trị thực tế và dự đoán (Đơn vị: nghìn đồng):\")\n",
        "print(result_df.head(16))"
      ],
      "metadata": {
        "colab": {
          "base_uri": "https://localhost:8080/"
        },
        "id": "mIsyBSDBmAPu",
        "outputId": "e35839a1-205f-4b36-e496-8c543a419ec9"
      },
      "execution_count": null,
      "outputs": [
        {
          "output_type": "stream",
          "name": "stdout",
          "text": [
            "Bảng so sánh giá trị thực tế và dự đoán (Đơn vị: nghìn đồng):\n",
            "    Giá thực tế  Giá dự đoán  Chênh lệch\n",
            "0         82.08    80.960075    1.119925\n",
            "1         85.68    80.983864    4.696136\n",
            "2         87.48    82.438835    5.041165\n",
            "3         88.77    84.430367    4.339633\n",
            "4         89.28    86.431778    2.848222\n",
            "5         89.97    87.946892    2.023108\n",
            "6         89.19    89.049385    0.140615\n",
            "7         90.14    89.201241    0.938759\n",
            "8         90.05    89.385170    0.664830\n",
            "9         89.45    89.320496    0.129504\n",
            "10        90.82    88.865303    1.954697\n",
            "11        89.71    89.021202    0.688798\n",
            "12        89.11    88.686989    0.423011\n",
            "13        92.63    88.102737    4.527263\n",
            "14        92.54    89.205246    3.334754\n",
            "15        93.05    90.186722    2.863278\n"
          ]
        }
      ]
    }
  ],
  "metadata": {
    "colab": {
      "collapsed_sections": [
        "t6dDt5RLjk04",
        "j6V-ZY2lm4-v",
        "tXIK5UlMn8oe"
      ],
      "provenance": []
    },
    "kernelspec": {
      "display_name": "Python 3",
      "name": "python3"
    },
    "language_info": {
      "codemirror_mode": {
        "name": "ipython",
        "version": 3
      },
      "file_extension": ".py",
      "mimetype": "text/x-python",
      "name": "python",
      "nbconvert_exporter": "python",
      "pygments_lexer": "ipython3",
      "version": "3.10.0"
    }
  },
  "nbformat": 4,
  "nbformat_minor": 0
}